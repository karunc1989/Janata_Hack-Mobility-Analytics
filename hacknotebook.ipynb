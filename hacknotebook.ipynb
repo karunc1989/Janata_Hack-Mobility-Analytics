{
 "cells": [
  {
   "cell_type": "markdown",
   "metadata": {},
   "source": [
    "# Janata Hack : Mobility Analytics"
   ]
  },
  {
   "cell_type": "markdown",
   "metadata": {},
   "source": [
    "Importing all the relevant libraries."
   ]
  },
  {
   "cell_type": "code",
   "execution_count": 1,
   "metadata": {},
   "outputs": [],
   "source": [
    "import os\n",
    "import pandas as pd\n",
    "import numpy as np\n",
    "import seaborn as sns\n",
    "import matplotlib.pyplot as plt"
   ]
  },
  {
   "cell_type": "markdown",
   "metadata": {},
   "source": [
    "Import the train and test dataset."
   ]
  },
  {
   "cell_type": "code",
   "execution_count": 2,
   "metadata": {},
   "outputs": [],
   "source": [
    "os.chdir(r\"C:\\Users\\**\\Desktop\\SAP_laptop_backup\\Desktop\\AIML\\Janatahack4\")\n",
    "data_train = pd.read_csv(\"train_Wc8LBpr.csv\")\n",
    "data_test = pd.read_csv(\"test_VsU9xXK.csv\")"
   ]
  },
  {
   "cell_type": "markdown",
   "metadata": {},
   "source": [
    "Here I have combined the train and test dataset for preprocessing and visualizing the data."
   ]
  },
  {
   "cell_type": "code",
   "execution_count": 3,
   "metadata": {},
   "outputs": [],
   "source": [
    "combine = pd.concat([data_train,data_test],ignore_index=True, sort=False)"
   ]
  },
  {
   "cell_type": "markdown",
   "metadata": {},
   "source": [
    "Looking into the data set for missing/Null values. There are a lot of variables with Null values which need to handled before modeling. We will be handling null values as we go further visualizing all the variables."
   ]
  },
  {
   "cell_type": "code",
   "execution_count": 4,
   "metadata": {},
   "outputs": [],
   "source": [
    "null_dict={}\n",
    "for col in combine.columns:\n",
    "    null_dict[col] = combine[col].isnull().sum()"
   ]
  },
  {
   "cell_type": "code",
   "execution_count": 5,
   "metadata": {},
   "outputs": [
    {
     "name": "stdout",
     "output_type": "stream",
     "text": [
      "{'Trip_ID': 0, 'Trip_Distance': 0, 'Type_of_Cab': 33368, 'Customer_Since_Months': 9886, 'Life_Style_Index': 33520, 'Confidence_Life_Style_Index': 33520, 'Destination_Type': 0, 'Customer_Rating': 0, 'Cancellation_Last_1Month': 0, 'Var1': 117819, 'Var2': 0, 'Var3': 0, 'Gender': 0, 'Surge_Pricing_Type': 87395}\n"
     ]
    }
   ],
   "source": [
    "print(null_dict)"
   ]
  },
  {
   "cell_type": "markdown",
   "metadata": {},
   "source": [
    "### Visualizing the data. "
   ]
  },
  {
   "cell_type": "markdown",
   "metadata": {},
   "source": [
    "The dataset consists of 13 independent variables. The target variable Surge_Pricing_Type has 3 classes(1,2,3). "
   ]
  },
  {
   "cell_type": "code",
   "execution_count": 6,
   "metadata": {},
   "outputs": [
    {
     "data": {
      "text/html": [
       "<div>\n",
       "<style scoped>\n",
       "    .dataframe tbody tr th:only-of-type {\n",
       "        vertical-align: middle;\n",
       "    }\n",
       "\n",
       "    .dataframe tbody tr th {\n",
       "        vertical-align: top;\n",
       "    }\n",
       "\n",
       "    .dataframe thead th {\n",
       "        text-align: right;\n",
       "    }\n",
       "</style>\n",
       "<table border=\"1\" class=\"dataframe\">\n",
       "  <thead>\n",
       "    <tr style=\"text-align: right;\">\n",
       "      <th></th>\n",
       "      <th>Trip_ID</th>\n",
       "      <th>Trip_Distance</th>\n",
       "      <th>Type_of_Cab</th>\n",
       "      <th>Customer_Since_Months</th>\n",
       "      <th>Life_Style_Index</th>\n",
       "      <th>Confidence_Life_Style_Index</th>\n",
       "      <th>Destination_Type</th>\n",
       "      <th>Customer_Rating</th>\n",
       "      <th>Cancellation_Last_1Month</th>\n",
       "      <th>Var1</th>\n",
       "      <th>Var2</th>\n",
       "      <th>Var3</th>\n",
       "      <th>Gender</th>\n",
       "      <th>Surge_Pricing_Type</th>\n",
       "    </tr>\n",
       "  </thead>\n",
       "  <tbody>\n",
       "    <tr>\n",
       "      <th>0</th>\n",
       "      <td>T0005689460</td>\n",
       "      <td>6.77</td>\n",
       "      <td>B</td>\n",
       "      <td>1.0</td>\n",
       "      <td>2.42769</td>\n",
       "      <td>A</td>\n",
       "      <td>A</td>\n",
       "      <td>3.90500</td>\n",
       "      <td>0</td>\n",
       "      <td>40.0</td>\n",
       "      <td>46</td>\n",
       "      <td>60</td>\n",
       "      <td>Female</td>\n",
       "      <td>2</td>\n",
       "    </tr>\n",
       "    <tr>\n",
       "      <th>1</th>\n",
       "      <td>T0005689461</td>\n",
       "      <td>29.47</td>\n",
       "      <td>B</td>\n",
       "      <td>10.0</td>\n",
       "      <td>2.78245</td>\n",
       "      <td>B</td>\n",
       "      <td>A</td>\n",
       "      <td>3.45000</td>\n",
       "      <td>0</td>\n",
       "      <td>38.0</td>\n",
       "      <td>56</td>\n",
       "      <td>78</td>\n",
       "      <td>Male</td>\n",
       "      <td>2</td>\n",
       "    </tr>\n",
       "    <tr>\n",
       "      <th>2</th>\n",
       "      <td>T0005689464</td>\n",
       "      <td>41.58</td>\n",
       "      <td>NaN</td>\n",
       "      <td>10.0</td>\n",
       "      <td>NaN</td>\n",
       "      <td>NaN</td>\n",
       "      <td>E</td>\n",
       "      <td>3.50125</td>\n",
       "      <td>2</td>\n",
       "      <td>NaN</td>\n",
       "      <td>56</td>\n",
       "      <td>77</td>\n",
       "      <td>Male</td>\n",
       "      <td>2</td>\n",
       "    </tr>\n",
       "    <tr>\n",
       "      <th>3</th>\n",
       "      <td>T0005689465</td>\n",
       "      <td>61.56</td>\n",
       "      <td>C</td>\n",
       "      <td>10.0</td>\n",
       "      <td>NaN</td>\n",
       "      <td>NaN</td>\n",
       "      <td>A</td>\n",
       "      <td>3.45375</td>\n",
       "      <td>0</td>\n",
       "      <td>NaN</td>\n",
       "      <td>52</td>\n",
       "      <td>74</td>\n",
       "      <td>Male</td>\n",
       "      <td>3</td>\n",
       "    </tr>\n",
       "    <tr>\n",
       "      <th>4</th>\n",
       "      <td>T0005689467</td>\n",
       "      <td>54.95</td>\n",
       "      <td>C</td>\n",
       "      <td>10.0</td>\n",
       "      <td>3.03453</td>\n",
       "      <td>B</td>\n",
       "      <td>A</td>\n",
       "      <td>3.40250</td>\n",
       "      <td>4</td>\n",
       "      <td>51.0</td>\n",
       "      <td>49</td>\n",
       "      <td>102</td>\n",
       "      <td>Male</td>\n",
       "      <td>2</td>\n",
       "    </tr>\n",
       "  </tbody>\n",
       "</table>\n",
       "</div>"
      ],
      "text/plain": [
       "       Trip_ID  Trip_Distance Type_of_Cab  Customer_Since_Months  \\\n",
       "0  T0005689460           6.77           B                    1.0   \n",
       "1  T0005689461          29.47           B                   10.0   \n",
       "2  T0005689464          41.58         NaN                   10.0   \n",
       "3  T0005689465          61.56           C                   10.0   \n",
       "4  T0005689467          54.95           C                   10.0   \n",
       "\n",
       "   Life_Style_Index Confidence_Life_Style_Index Destination_Type  \\\n",
       "0           2.42769                           A                A   \n",
       "1           2.78245                           B                A   \n",
       "2               NaN                         NaN                E   \n",
       "3               NaN                         NaN                A   \n",
       "4           3.03453                           B                A   \n",
       "\n",
       "   Customer_Rating  Cancellation_Last_1Month  Var1  Var2  Var3  Gender  \\\n",
       "0          3.90500                         0  40.0    46    60  Female   \n",
       "1          3.45000                         0  38.0    56    78    Male   \n",
       "2          3.50125                         2   NaN    56    77    Male   \n",
       "3          3.45375                         0   NaN    52    74    Male   \n",
       "4          3.40250                         4  51.0    49   102    Male   \n",
       "\n",
       "   Surge_Pricing_Type  \n",
       "0                   2  \n",
       "1                   2  \n",
       "2                   2  \n",
       "3                   3  \n",
       "4                   2  "
      ]
     },
     "execution_count": 6,
     "metadata": {},
     "output_type": "execute_result"
    }
   ],
   "source": [
    "data_train.head()"
   ]
  },
  {
   "cell_type": "markdown",
   "metadata": {},
   "source": [
    "TRIP DISTANCE"
   ]
  },
  {
   "cell_type": "code",
   "execution_count": 7,
   "metadata": {},
   "outputs": [
    {
     "data": {
      "image/png": "[encoded data removed]",
      "text/plain": [
       "<Figure size 1296x360 with 1 Axes>"
      ]
     },
     "metadata": {
      "needs_background": "light"
     },
     "output_type": "display_data"
    }
   ],
   "source": [
    "data1=data_train.loc[data_train[\"Surge_Pricing_Type\"]==1]\n",
    "data2=data_train.loc[data_train[\"Surge_Pricing_Type\"]==2]\n",
    "data3=data_train.loc[data_train[\"Surge_Pricing_Type\"]==3]\n",
    "plt.rcParams['figure.figsize']=(18,5)\n",
    "plt.subplot(1,3,1)\n",
    "sns.distplot(data1[\"Trip_Distance\"],color=\"red\")\n",
    "sns.distplot(data2[\"Trip_Distance\"],color=\"green\")\n",
    "sns.distplot(data3[\"Trip_Distance\"],color=\"yellow\")\n",
    "plt.title(\"Trip Distance\")\n",
    "plt.show()"
   ]
  },
  {
   "cell_type": "code",
   "execution_count": 8,
   "metadata": {},
   "outputs": [
    {
     "data": {
      "text/plain": [
       "2    56728\n",
       "3    47720\n",
       "1    27214\n",
       "Name: Surge_Pricing_Type, dtype: int64"
      ]
     },
     "execution_count": 8,
     "metadata": {},
     "output_type": "execute_result"
    }
   ],
   "source": [
    "data_train[\"Surge_Pricing_Type\"].value_counts()"
   ]
  },
  {
   "cell_type": "code",
   "execution_count": 9,
   "metadata": {},
   "outputs": [
    {
     "data": {
      "text/plain": [
       "(131662, 14)"
      ]
     },
     "execution_count": 9,
     "metadata": {},
     "output_type": "execute_result"
    }
   ],
   "source": [
    "data_train.shape"
   ]
  },
  {
   "cell_type": "code",
   "execution_count": 10,
   "metadata": {},
   "outputs": [
    {
     "data": {
      "text/plain": [
       "(87395, 13)"
      ]
     },
     "execution_count": 10,
     "metadata": {},
     "output_type": "execute_result"
    }
   ],
   "source": [
    "data_test.shape"
   ]
  },
  {
   "cell_type": "code",
   "execution_count": 11,
   "metadata": {},
   "outputs": [
    {
     "data": {
      "text/plain": [
       "(219057, 14)"
      ]
     },
     "execution_count": 11,
     "metadata": {},
     "output_type": "execute_result"
    }
   ],
   "source": [
    "combine.shape"
   ]
  },
  {
   "cell_type": "code",
   "execution_count": 12,
   "metadata": {},
   "outputs": [
    {
     "data": {
      "text/plain": [
       "87395"
      ]
     },
     "execution_count": 12,
     "metadata": {},
     "output_type": "execute_result"
    }
   ],
   "source": [
    "combine[\"Surge_Pricing_Type\"].isnull().sum()"
   ]
  },
  {
   "cell_type": "markdown",
   "metadata": {},
   "source": [
    "TYPE OF CAB"
   ]
  },
  {
   "cell_type": "code",
   "execution_count": 14,
   "metadata": {},
   "outputs": [
    {
     "data": {
      "text/plain": [
       "B    51585\n",
       "C    46732\n",
       "A    35878\n",
       "D    31885\n",
       "E    19609\n",
       "Name: Type_of_Cab, dtype: int64"
      ]
     },
     "execution_count": 14,
     "metadata": {},
     "output_type": "execute_result"
    }
   ],
   "source": [
    "combine[\"Type_of_Cab\"].value_counts()"
   ]
  },
  {
   "cell_type": "code",
   "execution_count": 15,
   "metadata": {},
   "outputs": [
    {
     "data": {
      "text/plain": [
       "<matplotlib.axes._subplots.AxesSubplot at 0x1db28532688>"
      ]
     },
     "execution_count": 15,
     "metadata": {},
     "output_type": "execute_result"
    },
    {
     "data": {
      "image/png": "[encoded data removed]",
      "text/plain": [
       "<Figure size 1296x360 with 1 Axes>"
      ]
     },
     "metadata": {
      "needs_background": "light"
     },
     "output_type": "display_data"
    }
   ],
   "source": [
    "combine.groupby(\"Surge_Pricing_Type\").Type_of_Cab.value_counts().unstack(0).plot.bar()"
   ]
  },
  {
   "cell_type": "markdown",
   "metadata": {},
   "source": [
    "CUSTOMER SINCE MONTHS"
   ]
  },
  {
   "cell_type": "code",
   "execution_count": 16,
   "metadata": {},
   "outputs": [
    {
     "data": {
      "image/png": "[encoded data removed]",
      "text/plain": [
       "<Figure size 1296x360 with 1 Axes>"
      ]
     },
     "metadata": {
      "needs_background": "light"
     },
     "output_type": "display_data"
    }
   ],
   "source": [
    "plt.rcParams['figure.figsize']=(18,5)\n",
    "plt.subplot(1,3,1)\n",
    "sns.distplot(data1[\"Customer_Since_Months\"],color=\"red\")\n",
    "sns.distplot(data2[\"Customer_Since_Months\"],color=\"green\")\n",
    "sns.distplot(data3[\"Customer_Since_Months\"],color=\"yellow\")\n",
    "plt.title(\"Customer Since Months\")\n",
    "plt.show()"
   ]
  },
  {
   "cell_type": "markdown",
   "metadata": {},
   "source": [
    "We can see that the trip distance is left skewed.Also 10 months being the most dominant value and the maximum value shows that the operations started 10 months ago only and these all are initial customers. \n",
    "\n",
    "I have manually created bins for this."
   ]
  },
  {
   "cell_type": "code",
   "execution_count": 17,
   "metadata": {},
   "outputs": [],
   "source": [
    "custmon =[]\n",
    "for i in range(len(combine)):\n",
    "    if combine[\"Customer_Since_Months\"][i] ==10.0:\n",
    "        custmon.append(\"Ten\")\n",
    "    elif combine[\"Customer_Since_Months\"][i]>=7.0:\n",
    "        custmon.append(\"7to9\")\n",
    "    elif combine[\"Customer_Since_Months\"][i]>=4.0:\n",
    "        custmon.append(\"4to6\")\n",
    "    elif combine[\"Customer_Since_Months\"][i]>=0.0:\n",
    "        custmon.append(\"0to3\")\n",
    "    else:\n",
    "        custmon.append(combine[\"Customer_Since_Months\"][i])"
   ]
  },
  {
   "cell_type": "code",
   "execution_count": 18,
   "metadata": {},
   "outputs": [],
   "source": [
    "combine[\"Customer_Since_Months\"]=custmon"
   ]
  },
  {
   "cell_type": "code",
   "execution_count": 19,
   "metadata": {},
   "outputs": [
    {
     "data": {
      "text/plain": [
       "9886"
      ]
     },
     "execution_count": 19,
     "metadata": {},
     "output_type": "execute_result"
    }
   ],
   "source": [
    "combine[\"Customer_Since_Months\"].isnull().sum()"
   ]
  },
  {
   "cell_type": "markdown",
   "metadata": {},
   "source": [
    "Plotting the bar graph for the bins created for Customer Since Months."
   ]
  },
  {
   "cell_type": "code",
   "execution_count": 20,
   "metadata": {},
   "outputs": [
    {
     "data": {
      "text/plain": [
       "<matplotlib.axes._subplots.AxesSubplot at 0x1db28e12688>"
      ]
     },
     "execution_count": 20,
     "metadata": {},
     "output_type": "execute_result"
    },
    {
     "data": {
      "image/png": "[encoded data removed]",
      "text/plain": [
       "<Figure size 1296x360 with 1 Axes>"
      ]
     },
     "metadata": {
      "needs_background": "light"
     },
     "output_type": "display_data"
    }
   ],
   "source": [
    "combine.groupby(\"Surge_Pricing_Type\").Customer_Since_Months.value_counts().unstack(0).plot.bar()"
   ]
  },
  {
   "cell_type": "markdown",
   "metadata": {},
   "source": [
    "LIFE STYLE INDEX"
   ]
  },
  {
   "cell_type": "code",
   "execution_count": 21,
   "metadata": {},
   "outputs": [
    {
     "data": {
      "image/png": "[encoded data removed]",
      "text/plain": [
       "<Figure size 1296x360 with 1 Axes>"
      ]
     },
     "metadata": {
      "needs_background": "light"
     },
     "output_type": "display_data"
    }
   ],
   "source": [
    "plt.rcParams['figure.figsize']=(18,5)\n",
    "plt.subplot(1,3,1)\n",
    "sns.distplot(data1[\"Life_Style_Index\"],color=\"red\")\n",
    "sns.distplot(data2[\"Life_Style_Index\"],color=\"green\")\n",
    "sns.distplot(data3[\"Life_Style_Index\"],color=\"yellow\")\n",
    "plt.title(\"LFI\")\n",
    "plt.show()"
   ]
  },
  {
   "cell_type": "code",
   "execution_count": 22,
   "metadata": {},
   "outputs": [
    {
     "data": {
      "text/plain": [
       "count    185537.000000\n",
       "mean          2.802594\n",
       "std           0.226323\n",
       "min           1.317850\n",
       "25%           2.654620\n",
       "50%           2.798280\n",
       "75%           2.947650\n",
       "max           4.875110\n",
       "Name: Life_Style_Index, dtype: float64"
      ]
     },
     "execution_count": 22,
     "metadata": {},
     "output_type": "execute_result"
    }
   ],
   "source": [
    "combine[\"Life_Style_Index\"].describe()"
   ]
  },
  {
   "cell_type": "markdown",
   "metadata": {},
   "source": [
    "Filling the Null values with the mean for Life Style Index"
   ]
  },
  {
   "cell_type": "code",
   "execution_count": 23,
   "metadata": {},
   "outputs": [],
   "source": [
    "combine[\"Life_Style_Index\"].fillna(np.mean(combine[\"Life_Style_Index\"]),inplace=True)"
   ]
  },
  {
   "cell_type": "code",
   "execution_count": 24,
   "metadata": {},
   "outputs": [
    {
     "data": {
      "text/plain": [
       "0"
      ]
     },
     "execution_count": 24,
     "metadata": {},
     "output_type": "execute_result"
    }
   ],
   "source": [
    "combine[\"Life_Style_Index\"].isnull().sum()"
   ]
  },
  {
   "cell_type": "markdown",
   "metadata": {},
   "source": [
    "CONFIDENCE LIFE STYLE INDEX"
   ]
  },
  {
   "cell_type": "code",
   "execution_count": 25,
   "metadata": {
    "scrolled": true
   },
   "outputs": [
    {
     "data": {
      "text/plain": [
       "<matplotlib.axes._subplots.AxesSubplot at 0x1db285ef788>"
      ]
     },
     "execution_count": 25,
     "metadata": {},
     "output_type": "execute_result"
    },
    {
     "data": {
      "image/png": "[encoded data removed]",
      "text/plain": [
       "<Figure size 1296x360 with 1 Axes>"
      ]
     },
     "metadata": {
      "needs_background": "light"
     },
     "output_type": "display_data"
    }
   ],
   "source": [
    "combine.groupby(\"Surge_Pricing_Type\").Confidence_Life_Style_Index.value_counts().unstack(0).plot.bar()"
   ]
  },
  {
   "cell_type": "markdown",
   "metadata": {},
   "source": [
    "DESTINATION TYPE VALUE COUNTS"
   ]
  },
  {
   "cell_type": "code",
   "execution_count": 26,
   "metadata": {},
   "outputs": [
    {
     "data": {
      "text/plain": [
       "<matplotlib.axes._subplots.AxesSubplot at 0x1db2b505208>"
      ]
     },
     "execution_count": 26,
     "metadata": {},
     "output_type": "execute_result"
    },
    {
     "data": {
      "image/png": "[encoded data removed]",
      "text/plain": [
       "<Figure size 1296x360 with 1 Axes>"
      ]
     },
     "metadata": {
      "needs_background": "light"
     },
     "output_type": "display_data"
    }
   ],
   "source": [
    "combine.groupby(\"Surge_Pricing_Type\").Destination_Type.value_counts().unstack(0).plot.bar()"
   ]
  },
  {
   "cell_type": "code",
   "execution_count": 27,
   "metadata": {},
   "outputs": [
    {
     "data": {
      "image/png": "[encoded data removed]",
      "text/plain": [
       "<Figure size 1296x360 with 1 Axes>"
      ]
     },
     "metadata": {
      "needs_background": "light"
     },
     "output_type": "display_data"
    }
   ],
   "source": [
    "plt.rcParams['figure.figsize']=(18,5)\n",
    "plt.subplot(1,3,1)\n",
    "sns.distplot(data1[\"Customer_Rating\"],color=\"red\")\n",
    "sns.distplot(data2[\"Customer_Rating\"],color=\"green\")\n",
    "sns.distplot(data3[\"Customer_Rating\"],color=\"yellow\")\n",
    "plt.title(\"Customer Rating\")\n",
    "plt.show()"
   ]
  },
  {
   "cell_type": "markdown",
   "metadata": {},
   "source": [
    "CANCELLATION LAST 1 MONTH"
   ]
  },
  {
   "cell_type": "code",
   "execution_count": 28,
   "metadata": {},
   "outputs": [
    {
     "data": {
      "image/png": "[encoded data removed]",
      "text/plain": [
       "<Figure size 1296x360 with 1 Axes>"
      ]
     },
     "metadata": {
      "needs_background": "light"
     },
     "output_type": "display_data"
    }
   ],
   "source": [
    "plt.rcParams['figure.figsize']=(18,5)\n",
    "plt.subplot(1,3,1)\n",
    "sns.distplot(data1[\"Cancellation_Last_1Month\"],color=\"red\")\n",
    "sns.distplot(data2[\"Cancellation_Last_1Month\"],color=\"green\")\n",
    "sns.distplot(data3[\"Cancellation_Last_1Month\"],color=\"yellow\")\n",
    "plt.title(\"Cancellation_Last_1Month\")\n",
    "plt.show()"
   ]
  },
  {
   "cell_type": "code",
   "execution_count": 29,
   "metadata": {},
   "outputs": [
    {
     "data": {
      "text/plain": [
       "<matplotlib.axes._subplots.AxesSubplot at 0x1db2daf0588>"
      ]
     },
     "execution_count": 29,
     "metadata": {},
     "output_type": "execute_result"
    },
    {
     "data": {
      "image/png": "[encoded data removed]",
      "text/plain": [
       "<Figure size 1296x360 with 1 Axes>"
      ]
     },
     "metadata": {
      "needs_background": "light"
     },
     "output_type": "display_data"
    }
   ],
   "source": [
    "data_train.groupby(\"Surge_Pricing_Type\").Cancellation_Last_1Month.value_counts().unstack(0).plot.bar()"
   ]
  },
  {
   "cell_type": "markdown",
   "metadata": {},
   "source": [
    "VAR1"
   ]
  },
  {
   "cell_type": "code",
   "execution_count": 30,
   "metadata": {},
   "outputs": [
    {
     "data": {
      "image/png": "[encoded data removed]",
      "text/plain": [
       "<Figure size 1296x360 with 1 Axes>"
      ]
     },
     "metadata": {
      "needs_background": "light"
     },
     "output_type": "display_data"
    }
   ],
   "source": [
    "plt.rcParams['figure.figsize']=(18,5)\n",
    "plt.subplot(1,3,1)\n",
    "sns.distplot(data1[\"Var1\"],color=\"red\")\n",
    "sns.distplot(data2[\"Var1\"],color=\"green\")\n",
    "sns.distplot(data3[\"Var1\"],color=\"yellow\")\n",
    "plt.title(\"Var1\")\n",
    "plt.show()"
   ]
  },
  {
   "cell_type": "markdown",
   "metadata": {},
   "source": [
    "Log transformation of Var1 shows better distribution. Hence applying the log transformation for Var1."
   ]
  },
  {
   "cell_type": "code",
   "execution_count": 31,
   "metadata": {},
   "outputs": [
    {
     "data": {
      "image/png": "[encoded data removed]",
      "text/plain": [
       "<Figure size 1296x360 with 1 Axes>"
      ]
     },
     "metadata": {
      "needs_background": "light"
     },
     "output_type": "display_data"
    }
   ],
   "source": [
    "plt.rcParams['figure.figsize']=(18,5)\n",
    "plt.subplot(1,3,1)\n",
    "sns.distplot(np.log(data1[\"Var1\"]),color=\"red\")\n",
    "sns.distplot(np.log(data2[\"Var1\"]),color=\"green\")\n",
    "sns.distplot(np.log(data3[\"Var1\"]),color=\"yellow\")\n",
    "plt.title(\"Var1\")\n",
    "plt.show()"
   ]
  },
  {
   "cell_type": "code",
   "execution_count": 32,
   "metadata": {},
   "outputs": [],
   "source": [
    "combine[\"Var1\"]=np.log(combine[\"Var1\"])"
   ]
  },
  {
   "cell_type": "code",
   "execution_count": 33,
   "metadata": {},
   "outputs": [
    {
     "data": {
      "text/plain": [
       "count    101238.000000\n",
       "mean          4.102318\n",
       "std           0.343096\n",
       "min           3.401197\n",
       "25%           3.828641\n",
       "50%           4.110874\n",
       "75%           4.369448\n",
       "max           5.347108\n",
       "Name: Var1, dtype: float64"
      ]
     },
     "execution_count": 33,
     "metadata": {},
     "output_type": "execute_result"
    }
   ],
   "source": [
    "combine[\"Var1\"].describe()"
   ]
  },
  {
   "cell_type": "markdown",
   "metadata": {},
   "source": [
    "Also it is observed that Var1 has almost 50% missing values, hence filling the null values with mean of Var1."
   ]
  },
  {
   "cell_type": "code",
   "execution_count": 34,
   "metadata": {},
   "outputs": [],
   "source": [
    "combine[\"Var1\"].fillna(np.mean(combine[\"Var1\"]),inplace=True)"
   ]
  },
  {
   "cell_type": "code",
   "execution_count": 35,
   "metadata": {},
   "outputs": [
    {
     "data": {
      "text/plain": [
       "0"
      ]
     },
     "execution_count": 35,
     "metadata": {},
     "output_type": "execute_result"
    }
   ],
   "source": [
    "combine[\"Var1\"].isnull().sum()"
   ]
  },
  {
   "cell_type": "markdown",
   "metadata": {},
   "source": [
    "VAR2"
   ]
  },
  {
   "cell_type": "code",
   "execution_count": 36,
   "metadata": {},
   "outputs": [
    {
     "data": {
      "image/png": "[encoded data removed]",
      "text/plain": [
       "<Figure size 1296x360 with 1 Axes>"
      ]
     },
     "metadata": {
      "needs_background": "light"
     },
     "output_type": "display_data"
    }
   ],
   "source": [
    "plt.rcParams['figure.figsize']=(18,5)\n",
    "plt.subplot(1,3,1)\n",
    "sns.distplot(np.log(data1[\"Var2\"]),color=\"red\")\n",
    "sns.distplot(np.log(data2[\"Var2\"]),color=\"green\")\n",
    "sns.distplot(np.log(data3[\"Var2\"]),color=\"yellow\")\n",
    "plt.title(\"Var2\")\n",
    "plt.show()"
   ]
  },
  {
   "cell_type": "markdown",
   "metadata": {},
   "source": [
    "VAR3"
   ]
  },
  {
   "cell_type": "code",
   "execution_count": 37,
   "metadata": {},
   "outputs": [
    {
     "data": {
      "image/png": "[encoded data removed]",
      "text/plain": [
       "<Figure size 1296x360 with 1 Axes>"
      ]
     },
     "metadata": {
      "needs_background": "light"
     },
     "output_type": "display_data"
    }
   ],
   "source": [
    "plt.rcParams['figure.figsize']=(18,5)\n",
    "plt.subplot(1,3,1)\n",
    "sns.distplot(data1[\"Var3\"],color=\"red\")\n",
    "sns.distplot(data2[\"Var3\"],color=\"green\")\n",
    "sns.distplot(data3[\"Var3\"],color=\"yellow\")\n",
    "plt.title(\"Var3\")\n",
    "plt.show()"
   ]
  },
  {
   "cell_type": "markdown",
   "metadata": {},
   "source": [
    "GENDER"
   ]
  },
  {
   "cell_type": "code",
   "execution_count": 38,
   "metadata": {},
   "outputs": [
    {
     "data": {
      "text/plain": [
       "<matplotlib.axes._subplots.AxesSubplot at 0x1db2dbe6488>"
      ]
     },
     "execution_count": 38,
     "metadata": {},
     "output_type": "execute_result"
    },
    {
     "data": {
      "image/png": "[encoded data removed]",
      "text/plain": [
       "<Figure size 1296x360 with 1 Axes>"
      ]
     },
     "metadata": {
      "needs_background": "light"
     },
     "output_type": "display_data"
    }
   ],
   "source": [
    "combine.groupby(\"Surge_Pricing_Type\").Gender.value_counts().unstack(0).plot.bar()"
   ]
  },
  {
   "cell_type": "markdown",
   "metadata": {},
   "source": [
    "As we have already filled NULL values for all the continuous variables with the mean of the same, we are left with NULL values for categorial variables.First I had tried filling the Null values by predicting them using kmeans but that did not provide better results so alternatively I have created a different class \"UNKNOWN\" for all the missing variables which helped improve the results."
   ]
  },
  {
   "cell_type": "code",
   "execution_count": 39,
   "metadata": {},
   "outputs": [],
   "source": [
    "missing_val ={}\n",
    "missing_val_idx={}\n",
    "cols = list(combine.columns)\n",
    "for col in cols:\n",
    "    missing_val[col]=combine[col].isna().sum()\n",
    "    missing_val_idx[col]= list(combine.loc[combine[col].isna()].index)"
   ]
  },
  {
   "cell_type": "code",
   "execution_count": 40,
   "metadata": {},
   "outputs": [
    {
     "name": "stdout",
     "output_type": "stream",
     "text": [
      "{'Trip_ID': 0, 'Trip_Distance': 0, 'Type_of_Cab': 33368, 'Customer_Since_Months': 9886, 'Life_Style_Index': 0, 'Confidence_Life_Style_Index': 33520, 'Destination_Type': 0, 'Customer_Rating': 0, 'Cancellation_Last_1Month': 0, 'Var1': 0, 'Var2': 0, 'Var3': 0, 'Gender': 0, 'Surge_Pricing_Type': 87395}\n"
     ]
    }
   ],
   "source": [
    "print(missing_val)"
   ]
  },
  {
   "cell_type": "code",
   "execution_count": 41,
   "metadata": {},
   "outputs": [],
   "source": [
    "combine1 = combine.drop(columns=[\"Trip_ID\",\"Surge_Pricing_Type\"])"
   ]
  },
  {
   "cell_type": "code",
   "execution_count": 42,
   "metadata": {},
   "outputs": [
    {
     "data": {
      "text/plain": [
       "'from sklearn.neighbors import KNeighborsClassifier\\ndef getmissingval(X_train,Y_train,X_mis):\\n    model = KNeighborsClassifier()\\n    model.fit(X_train,Y_train)\\n    Y_mis=model.predict(X_mis)\\n    return Y_mis\\n\\ncols1 = [\"Customer_Since_Months\",\"Type_of_Cab\",\"Confidence_Life_Style_Index\"]\\n\\nfor col in cols1:\\n    X_mis = combine1.loc[missing_val_idx[col]]\\n    X_train = combine1.drop(missing_val_idx[col])\\n    Y_train = X_train[col]\\n    X_train = X_train.drop(columns=[col])\\n    X_train = pd.get_dummies(X_train)\\n    X_mis = X_mis.drop(columns=[col])\\n    X_mis = pd.get_dummies(X_mis)\\n    Y_mis = getmissingval(X_train,Y_train,X_mis)\\n    for i in range(missing_val[col]):\\n        combine1[col][missing_val_idx[col][i]]=Y_mis[i]\\n'"
      ]
     },
     "execution_count": 42,
     "metadata": {},
     "output_type": "execute_result"
    }
   ],
   "source": [
    "'''from sklearn.neighbors import KNeighborsClassifier\n",
    "def getmissingval(X_train,Y_train,X_mis):\n",
    "    model = KNeighborsClassifier()\n",
    "    model.fit(X_train,Y_train)\n",
    "    Y_mis=model.predict(X_mis)\n",
    "    return Y_mis\n",
    "\n",
    "cols1 = [\"Customer_Since_Months\",\"Type_of_Cab\",\"Confidence_Life_Style_Index\"]\n",
    "\n",
    "for col in cols1:\n",
    "    X_mis = combine1.loc[missing_val_idx[col]]\n",
    "    X_train = combine1.drop(missing_val_idx[col])\n",
    "    Y_train = X_train[col]\n",
    "    X_train = X_train.drop(columns=[col])\n",
    "    X_train = pd.get_dummies(X_train)\n",
    "    X_mis = X_mis.drop(columns=[col])\n",
    "    X_mis = pd.get_dummies(X_mis)\n",
    "    Y_mis = getmissingval(X_train,Y_train,X_mis)\n",
    "    for i in range(missing_val[col]):\n",
    "        combine1[col][missing_val_idx[col][i]]=Y_mis[i]\n",
    "'''"
   ]
  },
  {
   "cell_type": "code",
   "execution_count": 43,
   "metadata": {},
   "outputs": [],
   "source": [
    "cols1 = [\"Customer_Since_Months\",\"Type_of_Cab\",\"Confidence_Life_Style_Index\"]\n",
    "\n",
    "for col in cols1:\n",
    "    combine1[col] = combine1[col].fillna(\"Unknown\")"
   ]
  },
  {
   "cell_type": "code",
   "execution_count": 44,
   "metadata": {},
   "outputs": [],
   "source": [
    "#combine1.dtypes\n",
    "cols = [\"Type_of_Cab\",\"Customer_Since_Months\",\"Confidence_Life_Style_Index\",\"Destination_Type\",\"Gender\"]\n",
    "for col in cols:\n",
    "    combine1[col]=combine1[col].astype(\"category\")"
   ]
  },
  {
   "cell_type": "code",
   "execution_count": 45,
   "metadata": {},
   "outputs": [
    {
     "data": {
      "text/html": [
       "<div>\n",
       "<style scoped>\n",
       "    .dataframe tbody tr th:only-of-type {\n",
       "        vertical-align: middle;\n",
       "    }\n",
       "\n",
       "    .dataframe tbody tr th {\n",
       "        vertical-align: top;\n",
       "    }\n",
       "\n",
       "    .dataframe thead th {\n",
       "        text-align: right;\n",
       "    }\n",
       "</style>\n",
       "<table border=\"1\" class=\"dataframe\">\n",
       "  <thead>\n",
       "    <tr style=\"text-align: right;\">\n",
       "      <th></th>\n",
       "      <th>Trip_Distance</th>\n",
       "      <th>Type_of_Cab</th>\n",
       "      <th>Customer_Since_Months</th>\n",
       "      <th>Life_Style_Index</th>\n",
       "      <th>Confidence_Life_Style_Index</th>\n",
       "      <th>Destination_Type</th>\n",
       "      <th>Customer_Rating</th>\n",
       "      <th>Cancellation_Last_1Month</th>\n",
       "      <th>Var1</th>\n",
       "      <th>Var2</th>\n",
       "      <th>Var3</th>\n",
       "      <th>Gender</th>\n",
       "    </tr>\n",
       "  </thead>\n",
       "  <tbody>\n",
       "    <tr>\n",
       "      <th>0</th>\n",
       "      <td>6.77</td>\n",
       "      <td>B</td>\n",
       "      <td>0to3</td>\n",
       "      <td>2.427690</td>\n",
       "      <td>A</td>\n",
       "      <td>A</td>\n",
       "      <td>3.90500</td>\n",
       "      <td>0</td>\n",
       "      <td>3.688879</td>\n",
       "      <td>46</td>\n",
       "      <td>60</td>\n",
       "      <td>Female</td>\n",
       "    </tr>\n",
       "    <tr>\n",
       "      <th>1</th>\n",
       "      <td>29.47</td>\n",
       "      <td>B</td>\n",
       "      <td>Ten</td>\n",
       "      <td>2.782450</td>\n",
       "      <td>B</td>\n",
       "      <td>A</td>\n",
       "      <td>3.45000</td>\n",
       "      <td>0</td>\n",
       "      <td>3.637586</td>\n",
       "      <td>56</td>\n",
       "      <td>78</td>\n",
       "      <td>Male</td>\n",
       "    </tr>\n",
       "    <tr>\n",
       "      <th>2</th>\n",
       "      <td>41.58</td>\n",
       "      <td>Unknown</td>\n",
       "      <td>Ten</td>\n",
       "      <td>2.802594</td>\n",
       "      <td>Unknown</td>\n",
       "      <td>E</td>\n",
       "      <td>3.50125</td>\n",
       "      <td>2</td>\n",
       "      <td>4.102318</td>\n",
       "      <td>56</td>\n",
       "      <td>77</td>\n",
       "      <td>Male</td>\n",
       "    </tr>\n",
       "    <tr>\n",
       "      <th>3</th>\n",
       "      <td>61.56</td>\n",
       "      <td>C</td>\n",
       "      <td>Ten</td>\n",
       "      <td>2.802594</td>\n",
       "      <td>Unknown</td>\n",
       "      <td>A</td>\n",
       "      <td>3.45375</td>\n",
       "      <td>0</td>\n",
       "      <td>4.102318</td>\n",
       "      <td>52</td>\n",
       "      <td>74</td>\n",
       "      <td>Male</td>\n",
       "    </tr>\n",
       "    <tr>\n",
       "      <th>4</th>\n",
       "      <td>54.95</td>\n",
       "      <td>C</td>\n",
       "      <td>Ten</td>\n",
       "      <td>3.034530</td>\n",
       "      <td>B</td>\n",
       "      <td>A</td>\n",
       "      <td>3.40250</td>\n",
       "      <td>4</td>\n",
       "      <td>3.931826</td>\n",
       "      <td>49</td>\n",
       "      <td>102</td>\n",
       "      <td>Male</td>\n",
       "    </tr>\n",
       "  </tbody>\n",
       "</table>\n",
       "</div>"
      ],
      "text/plain": [
       "   Trip_Distance Type_of_Cab Customer_Since_Months  Life_Style_Index  \\\n",
       "0           6.77           B                  0to3          2.427690   \n",
       "1          29.47           B                   Ten          2.782450   \n",
       "2          41.58     Unknown                   Ten          2.802594   \n",
       "3          61.56           C                   Ten          2.802594   \n",
       "4          54.95           C                   Ten          3.034530   \n",
       "\n",
       "  Confidence_Life_Style_Index Destination_Type  Customer_Rating  \\\n",
       "0                           A                A          3.90500   \n",
       "1                           B                A          3.45000   \n",
       "2                     Unknown                E          3.50125   \n",
       "3                     Unknown                A          3.45375   \n",
       "4                           B                A          3.40250   \n",
       "\n",
       "   Cancellation_Last_1Month      Var1  Var2  Var3  Gender  \n",
       "0                         0  3.688879    46    60  Female  \n",
       "1                         0  3.637586    56    78    Male  \n",
       "2                         2  4.102318    56    77    Male  \n",
       "3                         0  4.102318    52    74    Male  \n",
       "4                         4  3.931826    49   102    Male  "
      ]
     },
     "execution_count": 45,
     "metadata": {},
     "output_type": "execute_result"
    }
   ],
   "source": [
    "combine1.head()"
   ]
  },
  {
   "cell_type": "code",
   "execution_count": 46,
   "metadata": {},
   "outputs": [
    {
     "data": {
      "text/html": [
       "<div>\n",
       "<style scoped>\n",
       "    .dataframe tbody tr th:only-of-type {\n",
       "        vertical-align: middle;\n",
       "    }\n",
       "\n",
       "    .dataframe tbody tr th {\n",
       "        vertical-align: top;\n",
       "    }\n",
       "\n",
       "    .dataframe thead th {\n",
       "        text-align: right;\n",
       "    }\n",
       "</style>\n",
       "<table border=\"1\" class=\"dataframe\">\n",
       "  <thead>\n",
       "    <tr style=\"text-align: right;\">\n",
       "      <th></th>\n",
       "      <th>Trip_ID</th>\n",
       "      <th>Trip_Distance</th>\n",
       "      <th>Type_of_Cab</th>\n",
       "      <th>Customer_Since_Months</th>\n",
       "      <th>Life_Style_Index</th>\n",
       "      <th>Confidence_Life_Style_Index</th>\n",
       "      <th>Destination_Type</th>\n",
       "      <th>Customer_Rating</th>\n",
       "      <th>Cancellation_Last_1Month</th>\n",
       "      <th>Var1</th>\n",
       "      <th>Var2</th>\n",
       "      <th>Var3</th>\n",
       "      <th>Gender</th>\n",
       "      <th>Surge_Pricing_Type</th>\n",
       "    </tr>\n",
       "  </thead>\n",
       "  <tbody>\n",
       "    <tr>\n",
       "      <th>0</th>\n",
       "      <td>T0005689460</td>\n",
       "      <td>6.77</td>\n",
       "      <td>B</td>\n",
       "      <td>0to3</td>\n",
       "      <td>2.427690</td>\n",
       "      <td>A</td>\n",
       "      <td>A</td>\n",
       "      <td>3.90500</td>\n",
       "      <td>0</td>\n",
       "      <td>3.688879</td>\n",
       "      <td>46</td>\n",
       "      <td>60</td>\n",
       "      <td>Female</td>\n",
       "      <td>2.0</td>\n",
       "    </tr>\n",
       "    <tr>\n",
       "      <th>1</th>\n",
       "      <td>T0005689461</td>\n",
       "      <td>29.47</td>\n",
       "      <td>B</td>\n",
       "      <td>Ten</td>\n",
       "      <td>2.782450</td>\n",
       "      <td>B</td>\n",
       "      <td>A</td>\n",
       "      <td>3.45000</td>\n",
       "      <td>0</td>\n",
       "      <td>3.637586</td>\n",
       "      <td>56</td>\n",
       "      <td>78</td>\n",
       "      <td>Male</td>\n",
       "      <td>2.0</td>\n",
       "    </tr>\n",
       "    <tr>\n",
       "      <th>2</th>\n",
       "      <td>T0005689464</td>\n",
       "      <td>41.58</td>\n",
       "      <td>NaN</td>\n",
       "      <td>Ten</td>\n",
       "      <td>2.802594</td>\n",
       "      <td>NaN</td>\n",
       "      <td>E</td>\n",
       "      <td>3.50125</td>\n",
       "      <td>2</td>\n",
       "      <td>4.102318</td>\n",
       "      <td>56</td>\n",
       "      <td>77</td>\n",
       "      <td>Male</td>\n",
       "      <td>2.0</td>\n",
       "    </tr>\n",
       "    <tr>\n",
       "      <th>3</th>\n",
       "      <td>T0005689465</td>\n",
       "      <td>61.56</td>\n",
       "      <td>C</td>\n",
       "      <td>Ten</td>\n",
       "      <td>2.802594</td>\n",
       "      <td>NaN</td>\n",
       "      <td>A</td>\n",
       "      <td>3.45375</td>\n",
       "      <td>0</td>\n",
       "      <td>4.102318</td>\n",
       "      <td>52</td>\n",
       "      <td>74</td>\n",
       "      <td>Male</td>\n",
       "      <td>3.0</td>\n",
       "    </tr>\n",
       "    <tr>\n",
       "      <th>4</th>\n",
       "      <td>T0005689467</td>\n",
       "      <td>54.95</td>\n",
       "      <td>C</td>\n",
       "      <td>Ten</td>\n",
       "      <td>3.034530</td>\n",
       "      <td>B</td>\n",
       "      <td>A</td>\n",
       "      <td>3.40250</td>\n",
       "      <td>4</td>\n",
       "      <td>3.931826</td>\n",
       "      <td>49</td>\n",
       "      <td>102</td>\n",
       "      <td>Male</td>\n",
       "      <td>2.0</td>\n",
       "    </tr>\n",
       "  </tbody>\n",
       "</table>\n",
       "</div>"
      ],
      "text/plain": [
       "       Trip_ID  Trip_Distance Type_of_Cab Customer_Since_Months  \\\n",
       "0  T0005689460           6.77           B                  0to3   \n",
       "1  T0005689461          29.47           B                   Ten   \n",
       "2  T0005689464          41.58         NaN                   Ten   \n",
       "3  T0005689465          61.56           C                   Ten   \n",
       "4  T0005689467          54.95           C                   Ten   \n",
       "\n",
       "   Life_Style_Index Confidence_Life_Style_Index Destination_Type  \\\n",
       "0          2.427690                           A                A   \n",
       "1          2.782450                           B                A   \n",
       "2          2.802594                         NaN                E   \n",
       "3          2.802594                         NaN                A   \n",
       "4          3.034530                           B                A   \n",
       "\n",
       "   Customer_Rating  Cancellation_Last_1Month      Var1  Var2  Var3  Gender  \\\n",
       "0          3.90500                         0  3.688879    46    60  Female   \n",
       "1          3.45000                         0  3.637586    56    78    Male   \n",
       "2          3.50125                         2  4.102318    56    77    Male   \n",
       "3          3.45375                         0  4.102318    52    74    Male   \n",
       "4          3.40250                         4  3.931826    49   102    Male   \n",
       "\n",
       "   Surge_Pricing_Type  \n",
       "0                 2.0  \n",
       "1                 2.0  \n",
       "2                 2.0  \n",
       "3                 3.0  \n",
       "4                 2.0  "
      ]
     },
     "execution_count": 46,
     "metadata": {},
     "output_type": "execute_result"
    }
   ],
   "source": [
    "combine.head()"
   ]
  },
  {
   "cell_type": "code",
   "execution_count": 47,
   "metadata": {},
   "outputs": [],
   "source": [
    "combine1[\"Trip_ID\"] = combine[\"Trip_ID\"]\n",
    "combine1[\"Surge_Pricing_Type\"] = combine[\"Surge_Pricing_Type\"]"
   ]
  },
  {
   "cell_type": "code",
   "execution_count": 48,
   "metadata": {},
   "outputs": [
    {
     "data": {
      "text/plain": [
       "Trip_Distance                   float64\n",
       "Type_of_Cab                    category\n",
       "Customer_Since_Months          category\n",
       "Life_Style_Index                float64\n",
       "Confidence_Life_Style_Index    category\n",
       "Destination_Type               category\n",
       "Customer_Rating                 float64\n",
       "Cancellation_Last_1Month          int64\n",
       "Var1                            float64\n",
       "Var2                              int64\n",
       "Var3                              int64\n",
       "Gender                         category\n",
       "Trip_ID                          object\n",
       "Surge_Pricing_Type              float64\n",
       "dtype: object"
      ]
     },
     "execution_count": 48,
     "metadata": {},
     "output_type": "execute_result"
    }
   ],
   "source": [
    "combine1.dtypes"
   ]
  },
  {
   "cell_type": "markdown",
   "metadata": {},
   "source": [
    "Separating the test and train data from combined data frame. "
   ]
  },
  {
   "cell_type": "code",
   "execution_count": 49,
   "metadata": {},
   "outputs": [],
   "source": [
    "data_test = combine1[combine1[\"Surge_Pricing_Type\"].isnull()]"
   ]
  },
  {
   "cell_type": "code",
   "execution_count": 50,
   "metadata": {},
   "outputs": [],
   "source": [
    "data_test = data_test.drop(columns=[\"Surge_Pricing_Type\",\"Trip_ID\"])"
   ]
  },
  {
   "cell_type": "code",
   "execution_count": 51,
   "metadata": {},
   "outputs": [],
   "source": [
    "data_train = combine1[combine1[\"Surge_Pricing_Type\"].notna()]"
   ]
  },
  {
   "cell_type": "code",
   "execution_count": 52,
   "metadata": {},
   "outputs": [
    {
     "name": "stderr",
     "output_type": "stream",
     "text": [
      "C:\\Users\\I354298\\AppData\\Local\\Continuum\\anaconda3\\lib\\site-packages\\ipykernel_launcher.py:1: SettingWithCopyWarning: \n",
      "A value is trying to be set on a copy of a slice from a DataFrame.\n",
      "Try using .loc[row_indexer,col_indexer] = value instead\n",
      "\n",
      "See the caveats in the documentation: https://pandas.pydata.org/pandas-docs/stable/user_guide/indexing.html#returning-a-view-versus-a-copy\n",
      "  \"\"\"Entry point for launching an IPython kernel.\n"
     ]
    }
   ],
   "source": [
    "data_train[\"Surge_Pricing_Type\"] = data_train[\"Surge_Pricing_Type\"].astype(\"int\")"
   ]
  },
  {
   "cell_type": "code",
   "execution_count": 53,
   "metadata": {},
   "outputs": [
    {
     "data": {
      "text/plain": [
       "Trip_Distance                   float64\n",
       "Type_of_Cab                    category\n",
       "Customer_Since_Months          category\n",
       "Life_Style_Index                float64\n",
       "Confidence_Life_Style_Index    category\n",
       "Destination_Type               category\n",
       "Customer_Rating                 float64\n",
       "Cancellation_Last_1Month          int64\n",
       "Var1                            float64\n",
       "Var2                              int64\n",
       "Var3                              int64\n",
       "Gender                         category\n",
       "Trip_ID                          object\n",
       "Surge_Pricing_Type                int32\n",
       "dtype: object"
      ]
     },
     "execution_count": 53,
     "metadata": {},
     "output_type": "execute_result"
    }
   ],
   "source": [
    "data_train.dtypes"
   ]
  },
  {
   "cell_type": "markdown",
   "metadata": {},
   "source": [
    "#### Model"
   ]
  },
  {
   "cell_type": "markdown",
   "metadata": {},
   "source": [
    "Importing K Fold validation and Lightgbm gradient boosting libraries. Also as lightgbm and XGBoost take numeric inputs so we have to create dummy variables for all the categorical variables before modeling."
   ]
  },
  {
   "cell_type": "code",
   "execution_count": 54,
   "metadata": {},
   "outputs": [],
   "source": [
    "#Model\n",
    "from sklearn.model_selection import StratifiedKFold\n",
    "from sklearn.metrics import accuracy_score\n",
    "import lightgbm as lgb\n",
    "\n",
    "Y = data_train[\"Surge_Pricing_Type\"]\n",
    "X = data_train.drop(columns=[\"Surge_Pricing_Type\",\"Trip_ID\"])\n",
    "X1 = pd.get_dummies(X)\n",
    "X_test = pd.get_dummies(data_test)"
   ]
  },
  {
   "cell_type": "markdown",
   "metadata": {},
   "source": [
    "As we have categories 1,2,3 so encoding those with 0,1,2 respectively for the model"
   ]
  },
  {
   "cell_type": "code",
   "execution_count": 55,
   "metadata": {},
   "outputs": [],
   "source": [
    "Y = Y-1"
   ]
  },
  {
   "cell_type": "code",
   "execution_count": 56,
   "metadata": {},
   "outputs": [
    {
     "data": {
      "text/plain": [
       "1    56728\n",
       "2    47720\n",
       "0    27214\n",
       "Name: Surge_Pricing_Type, dtype: int64"
      ]
     },
     "execution_count": 56,
     "metadata": {},
     "output_type": "execute_result"
    }
   ],
   "source": [
    "Y.value_counts()"
   ]
  },
  {
   "cell_type": "markdown",
   "metadata": {},
   "source": [
    "First I have used lightgbm with random hyperparameter selection. I have also used K Fold cross validation. Here I have used 8 folds."
   ]
  },
  {
   "cell_type": "code",
   "execution_count": 57,
   "metadata": {
    "scrolled": true
   },
   "outputs": [
    {
     "name": "stderr",
     "output_type": "stream",
     "text": [
      "C:\\Users\\I354298\\AppData\\Local\\Continuum\\anaconda3\\lib\\site-packages\\sklearn\\model_selection\\_split.py:296: FutureWarning: Setting a random_state has no effect since shuffle is False. This will raise an error in 0.24. You should leave random_state to its default (None), or set shuffle=True.\n",
      "  FutureWarning\n"
     ]
    },
    {
     "name": "stdout",
     "output_type": "stream",
     "text": [
      "Fold 1\n",
      "Training until validation scores don't improve for 5000 rounds\n",
      "[1000]\ttraining's multi_logloss: 0.699305\tvalid_1's multi_logloss: 0.709494\n",
      "[2000]\ttraining's multi_logloss: 0.67251\tvalid_1's multi_logloss: 0.693251\n",
      "[3000]\ttraining's multi_logloss: 0.658721\tvalid_1's multi_logloss: 0.6898\n",
      "[4000]\ttraining's multi_logloss: 0.647995\tvalid_1's multi_logloss: 0.688923\n",
      "[5000]\ttraining's multi_logloss: 0.63863\tvalid_1's multi_logloss: 0.688934\n",
      "[6000]\ttraining's multi_logloss: 0.629862\tvalid_1's multi_logloss: 0.688988\n",
      "[7000]\ttraining's multi_logloss: 0.621585\tvalid_1's multi_logloss: 0.689193\n",
      "[8000]\ttraining's multi_logloss: 0.613779\tvalid_1's multi_logloss: 0.689575\n",
      "[9000]\ttraining's multi_logloss: 0.605959\tvalid_1's multi_logloss: 0.690024\n",
      "Early stopping, best iteration is:\n",
      "[4586]\ttraining's multi_logloss: 0.642472\tvalid_1's multi_logloss: 0.688844\n",
      "OOF Accuracy 0.70555353019808 and Training Accuracy 0.7234813385790889\n",
      "Fold 2\n",
      "Training until validation scores don't improve for 5000 rounds\n",
      "[1000]\ttraining's multi_logloss: 0.698173\tvalid_1's multi_logloss: 0.71315\n",
      "[2000]\ttraining's multi_logloss: 0.671245\tvalid_1's multi_logloss: 0.698662\n",
      "[3000]\ttraining's multi_logloss: 0.657338\tvalid_1's multi_logloss: 0.696125\n",
      "[4000]\ttraining's multi_logloss: 0.646515\tvalid_1's multi_logloss: 0.695621\n",
      "[5000]\ttraining's multi_logloss: 0.637178\tvalid_1's multi_logloss: 0.695635\n",
      "[6000]\ttraining's multi_logloss: 0.628316\tvalid_1's multi_logloss: 0.695846\n",
      "[7000]\ttraining's multi_logloss: 0.619975\tvalid_1's multi_logloss: 0.696266\n",
      "[8000]\ttraining's multi_logloss: 0.612043\tvalid_1's multi_logloss: 0.696594\n",
      "[9000]\ttraining's multi_logloss: 0.604268\tvalid_1's multi_logloss: 0.697017\n",
      "Early stopping, best iteration is:\n",
      "[4546]\ttraining's multi_logloss: 0.641305\tvalid_1's multi_logloss: 0.695575\n",
      "OOF Accuracy 0.7050066836796695 and Training Accuracy 0.7245902386413696\n",
      "Fold 3\n",
      "Training until validation scores don't improve for 5000 rounds\n",
      "[1000]\ttraining's multi_logloss: 0.699951\tvalid_1's multi_logloss: 0.703185\n",
      "[2000]\ttraining's multi_logloss: 0.673348\tvalid_1's multi_logloss: 0.685165\n",
      "[3000]\ttraining's multi_logloss: 0.65944\tvalid_1's multi_logloss: 0.681188\n",
      "[4000]\ttraining's multi_logloss: 0.648715\tvalid_1's multi_logloss: 0.68009\n",
      "[5000]\ttraining's multi_logloss: 0.639225\tvalid_1's multi_logloss: 0.679846\n",
      "[6000]\ttraining's multi_logloss: 0.630269\tvalid_1's multi_logloss: 0.679915\n",
      "[7000]\ttraining's multi_logloss: 0.621788\tvalid_1's multi_logloss: 0.680179\n",
      "[8000]\ttraining's multi_logloss: 0.613925\tvalid_1's multi_logloss: 0.680475\n",
      "[9000]\ttraining's multi_logloss: 0.606135\tvalid_1's multi_logloss: 0.680864\n",
      "Early stopping, best iteration is:\n",
      "[4748]\ttraining's multi_logloss: 0.641584\tvalid_1's multi_logloss: 0.679801\n",
      "OOF Accuracy 0.7091384129298821 and Training Accuracy 0.7248788564657987\n",
      "Fold 4\n",
      "Training until validation scores don't improve for 5000 rounds\n",
      "[1000]\ttraining's multi_logloss: 0.698536\tvalid_1's multi_logloss: 0.711875\n",
      "[2000]\ttraining's multi_logloss: 0.671926\tvalid_1's multi_logloss: 0.69589\n",
      "[3000]\ttraining's multi_logloss: 0.657989\tvalid_1's multi_logloss: 0.692272\n",
      "[4000]\ttraining's multi_logloss: 0.647179\tvalid_1's multi_logloss: 0.691177\n",
      "[5000]\ttraining's multi_logloss: 0.637808\tvalid_1's multi_logloss: 0.690821\n",
      "[6000]\ttraining's multi_logloss: 0.628933\tvalid_1's multi_logloss: 0.690757\n",
      "[7000]\ttraining's multi_logloss: 0.620645\tvalid_1's multi_logloss: 0.690887\n",
      "[8000]\ttraining's multi_logloss: 0.612668\tvalid_1's multi_logloss: 0.691142\n",
      "[9000]\ttraining's multi_logloss: 0.605176\tvalid_1's multi_logloss: 0.691501\n",
      "[10000]\ttraining's multi_logloss: 0.59786\tvalid_1's multi_logloss: 0.691859\n",
      "Early stopping, best iteration is:\n",
      "[5994]\ttraining's multi_logloss: 0.628983\tvalid_1's multi_logloss: 0.690753\n",
      "OOF Accuracy 0.7034269048487058 and Training Accuracy 0.7263143503820388\n",
      "Fold 5\n",
      "Training until validation scores don't improve for 5000 rounds\n",
      "[1000]\ttraining's multi_logloss: 0.698729\tvalid_1's multi_logloss: 0.710506\n",
      "[2000]\ttraining's multi_logloss: 0.672001\tvalid_1's multi_logloss: 0.694652\n",
      "[3000]\ttraining's multi_logloss: 0.658069\tvalid_1's multi_logloss: 0.691233\n",
      "[4000]\ttraining's multi_logloss: 0.647118\tvalid_1's multi_logloss: 0.690365\n",
      "[5000]\ttraining's multi_logloss: 0.637607\tvalid_1's multi_logloss: 0.690305\n",
      "[6000]\ttraining's multi_logloss: 0.628523\tvalid_1's multi_logloss: 0.69054\n",
      "[7000]\ttraining's multi_logloss: 0.620165\tvalid_1's multi_logloss: 0.690837\n",
      "[8000]\ttraining's multi_logloss: 0.612154\tvalid_1's multi_logloss: 0.691248\n",
      "[9000]\ttraining's multi_logloss: 0.604656\tvalid_1's multi_logloss: 0.691863\n",
      "Early stopping, best iteration is:\n",
      "[4392]\ttraining's multi_logloss: 0.643358\tvalid_1's multi_logloss: 0.690205\n",
      "OOF Accuracy 0.7049459229554016 and Training Accuracy 0.725873828439489\n",
      "Fold 6\n",
      "Training until validation scores don't improve for 5000 rounds\n",
      "[1000]\ttraining's multi_logloss: 0.700012\tvalid_1's multi_logloss: 0.704122\n",
      "[2000]\ttraining's multi_logloss: 0.67317\tvalid_1's multi_logloss: 0.688163\n",
      "[3000]\ttraining's multi_logloss: 0.65917\tvalid_1's multi_logloss: 0.685216\n",
      "[4000]\ttraining's multi_logloss: 0.648368\tvalid_1's multi_logloss: 0.684541\n",
      "[5000]\ttraining's multi_logloss: 0.639026\tvalid_1's multi_logloss: 0.684557\n",
      "[6000]\ttraining's multi_logloss: 0.63019\tvalid_1's multi_logloss: 0.684599\n",
      "[7000]\ttraining's multi_logloss: 0.621977\tvalid_1's multi_logloss: 0.684916\n",
      "[8000]\ttraining's multi_logloss: 0.614257\tvalid_1's multi_logloss: 0.68523\n",
      "[9000]\ttraining's multi_logloss: 0.606701\tvalid_1's multi_logloss: 0.685669\n",
      "Early stopping, best iteration is:\n",
      "[4750]\ttraining's multi_logloss: 0.641245\tvalid_1's multi_logloss: 0.684474\n",
      "OOF Accuracy 0.709928302345364 and Training Accuracy 0.7257295195272744\n",
      "Fold 7\n",
      "Training until validation scores don't improve for 5000 rounds\n",
      "[1000]\ttraining's multi_logloss: 0.698282\tvalid_1's multi_logloss: 0.712809\n",
      "[2000]\ttraining's multi_logloss: 0.671455\tvalid_1's multi_logloss: 0.698137\n",
      "[3000]\ttraining's multi_logloss: 0.657542\tvalid_1's multi_logloss: 0.695429\n",
      "[4000]\ttraining's multi_logloss: 0.646684\tvalid_1's multi_logloss: 0.694881\n",
      "[5000]\ttraining's multi_logloss: 0.63721\tvalid_1's multi_logloss: 0.694815\n",
      "[6000]\ttraining's multi_logloss: 0.628218\tvalid_1's multi_logloss: 0.695137\n",
      "[7000]\ttraining's multi_logloss: 0.620017\tvalid_1's multi_logloss: 0.695493\n",
      "[8000]\ttraining's multi_logloss: 0.612074\tvalid_1's multi_logloss: 0.695942\n",
      "[9000]\ttraining's multi_logloss: 0.604494\tvalid_1's multi_logloss: 0.6963\n",
      "Early stopping, best iteration is:\n",
      "[4753]\ttraining's multi_logloss: 0.639509\tvalid_1's multi_logloss: 0.694788\n",
      "OOF Accuracy 0.703834234672176 and Training Accuracy 0.7256991387036502\n",
      "Fold 8\n",
      "Training until validation scores don't improve for 5000 rounds\n",
      "[1000]\ttraining's multi_logloss: 0.6983\tvalid_1's multi_logloss: 0.713257\n",
      "[2000]\ttraining's multi_logloss: 0.671824\tvalid_1's multi_logloss: 0.697347\n",
      "[3000]\ttraining's multi_logloss: 0.657937\tvalid_1's multi_logloss: 0.693677\n",
      "[4000]\ttraining's multi_logloss: 0.646996\tvalid_1's multi_logloss: 0.692541\n",
      "[5000]\ttraining's multi_logloss: 0.637579\tvalid_1's multi_logloss: 0.692252\n",
      "[6000]\ttraining's multi_logloss: 0.628763\tvalid_1's multi_logloss: 0.69218\n",
      "[7000]\ttraining's multi_logloss: 0.620473\tvalid_1's multi_logloss: 0.692275\n",
      "[8000]\ttraining's multi_logloss: 0.612617\tvalid_1's multi_logloss: 0.692677\n",
      "[9000]\ttraining's multi_logloss: 0.605054\tvalid_1's multi_logloss: 0.692966\n",
      "[10000]\ttraining's multi_logloss: 0.597621\tvalid_1's multi_logloss: 0.693492\n",
      "[11000]\ttraining's multi_logloss: 0.590491\tvalid_1's multi_logloss: 0.693852\n",
      "Early stopping, best iteration is:\n",
      "[6602]\ttraining's multi_logloss: 0.62363\tvalid_1's multi_logloss: 0.69215\n",
      "OOF Accuracy 0.707176277571854 and Training Accuracy 0.7264054928529112\n"
     ]
    }
   ],
   "source": [
    "evals_result = {}\n",
    "feature_imp = pd.DataFrame()\n",
    "features = [feat for feat in X1.columns]\n",
    "folds = StratifiedKFold(n_splits=8, shuffle=False, random_state =8736)\n",
    "param = {\n",
    "    'bagging_freq': 125,\n",
    "    'bagging_fraction': 0.99,\n",
    "    'boost_from_average':'false',\n",
    "    'boosting_type': 'gbdt',\n",
    "    'feature_fraction': 0.54,\n",
    "    'learning_rate': 0.005,\n",
    "    'max_depth': -1,  \n",
    "    'min_data_in_leaf': 80,\n",
    "    'min_sum_hessian_in_leaf': 16.0,\n",
    "    'num_leaves': 40,\n",
    "    'num_threads': 8,\n",
    "    'tree_learner': 'serial',\n",
    "    'objective': 'multiclass',\n",
    "    'num_class': 3,\n",
    "    'verbosity': 1,\n",
    "    \"n_jobs\":-1,\n",
    "    \"metric\" : \"multi_logloss\",\n",
    "}\n",
    "\n",
    "predictions = np.zeros((len(X1),3))\n",
    "predictions_test = np.zeros((len(X_test),3))\n",
    "\n",
    "for fold_, (train_idx,val_idx) in enumerate(folds.split(X1.values,Y.values)):\n",
    "    print(\"Fold {}\".format(fold_+1))\n",
    "    d_train = lgb.Dataset(X1.iloc[train_idx][features], label=Y.iloc[train_idx])\n",
    "    d_val = lgb.Dataset(X1.iloc[val_idx][features],label=Y.iloc[val_idx])\n",
    "    num_round = 1000000\n",
    "    clf = lgb.train(param,d_train,num_round,valid_sets=[d_train,d_val],verbose_eval=1000, early_stopping_rounds=5000,evals_result=evals_result)\n",
    "    oof = clf.predict(X1.iloc[val_idx][features],num_iteration=clf.best_iteration)\n",
    "    fold_imp = pd.DataFrame()\n",
    "    fold_imp[\"Feature\"] = features\n",
    "    fold_imp[\"importance\"] = clf.feature_importance()\n",
    "    fold_imp[\"fold\"] = fold_ +1\n",
    "    feat_imp_df = pd.concat([feature_imp,fold_imp], axis=0)\n",
    "    predictions += clf.predict(X1, num_iteration=clf.best_iteration)\n",
    "    predictions_test += clf.predict(X_test, num_iteration=clf.best_iteration)\n",
    "    pred_lab = pd.DataFrame([np.argmax(pr) for pr in predictions])\n",
    "    oof_lab = pd.DataFrame([np.argmax(pr) for pr in oof])\n",
    "    acc_score = accuracy_score(Y,pred_lab)\n",
    "    oof_acc = accuracy_score(Y.iloc[val_idx],oof_lab)\n",
    "    print(\"OOF Accuracy {} and Training Accuracy {}\".format(oof_acc,acc_score))"
   ]
  },
  {
   "cell_type": "code",
   "execution_count": 59,
   "metadata": {},
   "outputs": [],
   "source": [
    "prediction_test_lab = pd.DataFrame([np.argmax(pr) for pr in predictions_test])\n",
    "prediction_test_lab = prediction_test_lab+1\n",
    "test = list(combine1[combine1[\"Surge_Pricing_Type\"].isnull()][\"Trip_ID\"])\n",
    "sub = pd.DataFrame({\"Trip_ID\":test,\"Surge_Pricing_Type\":prediction_test_lab[0]})\n",
    "#sub.to_csv(\"predictions12.csv\",index=False)"
   ]
  },
  {
   "cell_type": "code",
   "execution_count": 60,
   "metadata": {},
   "outputs": [
    {
     "name": "stderr",
     "output_type": "stream",
     "text": [
      "C:\\Users\\I354298\\AppData\\Local\\Continuum\\anaconda3\\lib\\site-packages\\sklearn\\model_selection\\_split.py:296: FutureWarning: Setting a random_state has no effect since shuffle is False. This will raise an error in 0.24. You should leave random_state to its default (None), or set shuffle=True.\n",
      "  FutureWarning\n"
     ]
    },
    {
     "name": "stdout",
     "output_type": "stream",
     "text": [
      "Fold 1\n",
      "OOF accuracy 0.7043990764369912 and Training accuracy 0.7400540778660509\n",
      "Fold 2\n",
      "OOF accuracy 0.7030015797788309 and Training accuracy 0.7409123361334325\n",
      "Fold 3\n",
      "OOF accuracy 0.7061611374407583 and Training accuracy 0.740995883398399\n",
      "Fold 4\n",
      "OOF accuracy 0.7030015797788309 and Training accuracy 0.7412769060169221\n",
      "Fold 5\n",
      "OOF accuracy 0.7023939725361527 and Training accuracy 0.741254120399204\n",
      "Fold 6\n",
      "OOF accuracy 0.7087738485842752 and Training accuracy 0.7413756436937006\n",
      "Fold 7\n",
      "OOF accuracy 0.7014644224342225 and Training accuracy 0.7414364053409488\n",
      "Fold 8\n",
      "OOF accuracy 0.7057786959956249 and Training accuracy 0.7415503334295392\n"
     ]
    }
   ],
   "source": [
    "from xgboost import XGBClassifier\n",
    "predictions = np.zeros((len(X1),3))\n",
    "predictions_test1 = np.zeros((len(X_test),3))\n",
    "features = [feat for feat in X1.columns]\n",
    "folds = StratifiedKFold(n_splits=8, shuffle=False, random_state =8736)\n",
    "for fold_, (train_idx,val_idx) in enumerate(folds.split(X1,Y)):\n",
    "    print(\"Fold {}\".format(fold_+1))\n",
    "    #old_score = score\n",
    "    clf = XGBClassifier(n_estimators=800,verbosity=1,objective=\"multi:softprob\",learning_rate =0.05,num_class =3,eval_metric=\"mlogloss\",early_stopping_rounds=10)\n",
    "    clf.fit(X1.iloc[train_idx][features],Y.iloc[train_idx])\n",
    "    best_iteration = clf.get_booster().best_ntree_limit\n",
    "    oof = clf.predict_proba(X1.iloc[val_idx][features],ntree_limit=best_iteration)\n",
    "    #score = roc_auc_score(Y.iloc[val_idx],oof)\n",
    "    #fold_imp = pd.DataFrame()\n",
    "    #fold_imp[\"Feature\"] = features\n",
    "    #fold_imp[\"importance\"] = clf.feature_importance()\n",
    "    #fold_imp[\"fold\"] = fold_ +1\n",
    "    #feat_imp_df = pd.concat([feature_imp,fold_imp], axis=0)\n",
    "    predictions += clf.predict_proba(X1,ntree_limit=best_iteration)\n",
    "    predictions_test1 += clf.predict_proba(X_test,ntree_limit=best_iteration)\n",
    "    #predictions = clf.predict(X_sub, num_iteration=clf.best_iteration)\n",
    "    pred_lab = pd.DataFrame([np.argmax(pr) for pr in predictions])\n",
    "    oof_lab = pd.DataFrame([np.argmax(pr) for pr in oof])\n",
    "    acc_score = accuracy_score(Y,pred_lab)\n",
    "    oof_acc = accuracy_score(Y.iloc[val_idx],oof_lab)      \n",
    "    print(\"OOF accuracy {} and Training accuracy {}\".format(oof_acc,acc_score))"
   ]
  },
  {
   "cell_type": "code",
   "execution_count": 62,
   "metadata": {},
   "outputs": [
    {
     "data": {
      "text/plain": [
       "0.7415503334295392"
      ]
     },
     "execution_count": 62,
     "metadata": {},
     "output_type": "execute_result"
    }
   ],
   "source": [
    "prediction_lab = pd.DataFrame([np.argmax(pr) for pr in predictions])\n",
    "accuracy_score(Y,prediction_lab)"
   ]
  },
  {
   "cell_type": "code",
   "execution_count": 63,
   "metadata": {},
   "outputs": [],
   "source": [
    "prediction_test2 = predictions_test+predictions_test1\n",
    "prediction_test_lab = pd.DataFrame([np.argmax(pr) for pr in prediction_test2])\n",
    "prediction_test_lab = prediction_test_lab+1\n",
    "test = list(combine1[combine1[\"Surge_Pricing_Type\"].isnull()][\"Trip_ID\"])\n",
    "sub = pd.DataFrame({\"Trip_ID\":test,\"Surge_Pricing_Type\":prediction_test_lab[0]})\n",
    "#sub.to_csv(\"predictions13.csv\",index=False)"
   ]
  }
 ],
 "metadata": {
  "kernelspec": {
   "display_name": "Python 3",
   "language": "python",
   "name": "python3"
  },
  "language_info": {
   "codemirror_mode": {
    "name": "ipython",
    "version": 3
   },
   "file_extension": ".py",
   "mimetype": "text/x-python",
   "name": "python",
   "nbconvert_exporter": "python",
   "pygments_lexer": "ipython3",
   "version": "3.7.6"
  }
 },
 "nbformat": 4,
 "nbformat_minor": 4
}
