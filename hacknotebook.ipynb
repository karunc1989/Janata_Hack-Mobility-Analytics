{
 "cells": [
  {
   "cell_type": "code",
   "execution_count": 1,
   "metadata": {},
   "outputs": [],
   "source": [
    "import os\n",
    "import pandas as pd\n",
    "import numpy as np\n",
    "import seaborn as sns\n",
    "import matplotlib.pyplot as plt\n",
    "os.chdir(r\"C:\\Users\\I354298\\Desktop\\SAP_laptop_backup\\Desktop\\AIML\\Janatahack4\")\n",
    "data_train = pd.read_csv(\"train_Wc8LBpr.csv\")\n",
    "data_test = pd.read_csv(\"test_VsU9xXK.csv\")"
   ]
  },
  {
   "cell_type": "code",
   "execution_count": 6,
   "metadata": {},
   "outputs": [
    {
     "data": {
      "text/html": [
       "<div>\n",
       "<style scoped>\n",
       "    .dataframe tbody tr th:only-of-type {\n",
       "        vertical-align: middle;\n",
       "    }\n",
       "\n",
       "    .dataframe tbody tr th {\n",
       "        vertical-align: top;\n",
       "    }\n",
       "\n",
       "    .dataframe thead th {\n",
       "        text-align: right;\n",
       "    }\n",
       "</style>\n",
       "<table border=\"1\" class=\"dataframe\">\n",
       "  <thead>\n",
       "    <tr style=\"text-align: right;\">\n",
       "      <th></th>\n",
       "      <th>Trip_ID</th>\n",
       "      <th>Trip_Distance</th>\n",
       "      <th>Type_of_Cab</th>\n",
       "      <th>Customer_Since_Months</th>\n",
       "      <th>Life_Style_Index</th>\n",
       "      <th>Confidence_Life_Style_Index</th>\n",
       "      <th>Destination_Type</th>\n",
       "      <th>Customer_Rating</th>\n",
       "      <th>Cancellation_Last_1Month</th>\n",
       "      <th>Var1</th>\n",
       "      <th>Var2</th>\n",
       "      <th>Var3</th>\n",
       "      <th>Gender</th>\n",
       "      <th>Surge_Pricing_Type</th>\n",
       "    </tr>\n",
       "  </thead>\n",
       "  <tbody>\n",
       "    <tr>\n",
       "      <th>0</th>\n",
       "      <td>T0005689460</td>\n",
       "      <td>6.77</td>\n",
       "      <td>B</td>\n",
       "      <td>1.0</td>\n",
       "      <td>2.42769</td>\n",
       "      <td>A</td>\n",
       "      <td>A</td>\n",
       "      <td>3.90500</td>\n",
       "      <td>0</td>\n",
       "      <td>40.0</td>\n",
       "      <td>46</td>\n",
       "      <td>60</td>\n",
       "      <td>Female</td>\n",
       "      <td>2</td>\n",
       "    </tr>\n",
       "    <tr>\n",
       "      <th>1</th>\n",
       "      <td>T0005689461</td>\n",
       "      <td>29.47</td>\n",
       "      <td>B</td>\n",
       "      <td>10.0</td>\n",
       "      <td>2.78245</td>\n",
       "      <td>B</td>\n",
       "      <td>A</td>\n",
       "      <td>3.45000</td>\n",
       "      <td>0</td>\n",
       "      <td>38.0</td>\n",
       "      <td>56</td>\n",
       "      <td>78</td>\n",
       "      <td>Male</td>\n",
       "      <td>2</td>\n",
       "    </tr>\n",
       "    <tr>\n",
       "      <th>2</th>\n",
       "      <td>T0005689464</td>\n",
       "      <td>41.58</td>\n",
       "      <td>NaN</td>\n",
       "      <td>10.0</td>\n",
       "      <td>NaN</td>\n",
       "      <td>NaN</td>\n",
       "      <td>E</td>\n",
       "      <td>3.50125</td>\n",
       "      <td>2</td>\n",
       "      <td>NaN</td>\n",
       "      <td>56</td>\n",
       "      <td>77</td>\n",
       "      <td>Male</td>\n",
       "      <td>2</td>\n",
       "    </tr>\n",
       "    <tr>\n",
       "      <th>3</th>\n",
       "      <td>T0005689465</td>\n",
       "      <td>61.56</td>\n",
       "      <td>C</td>\n",
       "      <td>10.0</td>\n",
       "      <td>NaN</td>\n",
       "      <td>NaN</td>\n",
       "      <td>A</td>\n",
       "      <td>3.45375</td>\n",
       "      <td>0</td>\n",
       "      <td>NaN</td>\n",
       "      <td>52</td>\n",
       "      <td>74</td>\n",
       "      <td>Male</td>\n",
       "      <td>3</td>\n",
       "    </tr>\n",
       "    <tr>\n",
       "      <th>4</th>\n",
       "      <td>T0005689467</td>\n",
       "      <td>54.95</td>\n",
       "      <td>C</td>\n",
       "      <td>10.0</td>\n",
       "      <td>3.03453</td>\n",
       "      <td>B</td>\n",
       "      <td>A</td>\n",
       "      <td>3.40250</td>\n",
       "      <td>4</td>\n",
       "      <td>51.0</td>\n",
       "      <td>49</td>\n",
       "      <td>102</td>\n",
       "      <td>Male</td>\n",
       "      <td>2</td>\n",
       "    </tr>\n",
       "  </tbody>\n",
       "</table>\n",
       "</div>"
      ],
      "text/plain": [
       "       Trip_ID  Trip_Distance Type_of_Cab  Customer_Since_Months  \\\n",
       "0  T0005689460           6.77           B                    1.0   \n",
       "1  T0005689461          29.47           B                   10.0   \n",
       "2  T0005689464          41.58         NaN                   10.0   \n",
       "3  T0005689465          61.56           C                   10.0   \n",
       "4  T0005689467          54.95           C                   10.0   \n",
       "\n",
       "   Life_Style_Index Confidence_Life_Style_Index Destination_Type  \\\n",
       "0           2.42769                           A                A   \n",
       "1           2.78245                           B                A   \n",
       "2               NaN                         NaN                E   \n",
       "3               NaN                         NaN                A   \n",
       "4           3.03453                           B                A   \n",
       "\n",
       "   Customer_Rating  Cancellation_Last_1Month  Var1  Var2  Var3  Gender  \\\n",
       "0          3.90500                         0  40.0    46    60  Female   \n",
       "1          3.45000                         0  38.0    56    78    Male   \n",
       "2          3.50125                         2   NaN    56    77    Male   \n",
       "3          3.45375                         0   NaN    52    74    Male   \n",
       "4          3.40250                         4  51.0    49   102    Male   \n",
       "\n",
       "   Surge_Pricing_Type  \n",
       "0                   2  \n",
       "1                   2  \n",
       "2                   2  \n",
       "3                   3  \n",
       "4                   2  "
      ]
     },
     "execution_count": 6,
     "metadata": {},
     "output_type": "execute_result"
    }
   ],
   "source": [
    "data_train.head()"
   ]
  },
  {
   "cell_type": "code",
   "execution_count": 2,
   "metadata": {},
   "outputs": [],
   "source": [
    "combine = pd.concat([data_train,data_test],ignore_index=True, sort=False)"
   ]
  },
  {
   "cell_type": "code",
   "execution_count": 26,
   "metadata": {},
   "outputs": [
    {
     "data": {
      "image/png": "[encoded data removed]",
      "text/plain": [
       "<Figure size 1296x360 with 1 Axes>"
      ]
     },
     "metadata": {
      "needs_background": "light"
     },
     "output_type": "display_data"
    }
   ],
   "source": [
    "data1=data_train.loc[data_train[\"Surge_Pricing_Type\"]==1]\n",
    "data2=data_train.loc[data_train[\"Surge_Pricing_Type\"]==2]\n",
    "data3=data_train.loc[data_train[\"Surge_Pricing_Type\"]==3]\n",
    "plt.rcParams['figure.figsize']=(18,5)\n",
    "plt.subplot(1,3,1)\n",
    "sns.distplot(data1[\"Trip_Distance\"],color=\"red\")\n",
    "sns.distplot(data2[\"Trip_Distance\"],color=\"green\")\n",
    "sns.distplot(data3[\"Trip_Distance\"],color=\"yellow\")\n",
    "plt.title(\"Trip Distance\")\n",
    "plt.show()"
   ]
  },
  {
   "cell_type": "code",
   "execution_count": 13,
   "metadata": {},
   "outputs": [
    {
     "data": {
      "text/plain": [
       "2    56728\n",
       "3    47720\n",
       "1    27214\n",
       "Name: Surge_Pricing_Type, dtype: int64"
      ]
     },
     "execution_count": 13,
     "metadata": {},
     "output_type": "execute_result"
    }
   ],
   "source": [
    "data_train[\"Surge_Pricing_Type\"].value_counts()"
   ]
  },
  {
   "cell_type": "code",
   "execution_count": 39,
   "metadata": {},
   "outputs": [
    {
     "data": {
      "text/plain": [
       "(131662, 14)"
      ]
     },
     "execution_count": 39,
     "metadata": {},
     "output_type": "execute_result"
    }
   ],
   "source": [
    "data_train.shape"
   ]
  },
  {
   "cell_type": "code",
   "execution_count": 40,
   "metadata": {},
   "outputs": [
    {
     "data": {
      "text/plain": [
       "(87395, 13)"
      ]
     },
     "execution_count": 40,
     "metadata": {},
     "output_type": "execute_result"
    }
   ],
   "source": [
    "data_test.shape"
   ]
  },
  {
   "cell_type": "code",
   "execution_count": 68,
   "metadata": {},
   "outputs": [
    {
     "data": {
      "text/plain": [
       "(219057, 14)"
      ]
     },
     "execution_count": 68,
     "metadata": {},
     "output_type": "execute_result"
    }
   ],
   "source": [
    "combine.shape"
   ]
  },
  {
   "cell_type": "code",
   "execution_count": 43,
   "metadata": {},
   "outputs": [
    {
     "data": {
      "text/plain": [
       "87395"
      ]
     },
     "execution_count": 43,
     "metadata": {},
     "output_type": "execute_result"
    }
   ],
   "source": [
    "combine[\"Surge_Pricing_Type\"].isnull().sum()"
   ]
  },
  {
   "cell_type": "code",
   "execution_count": 3,
   "metadata": {},
   "outputs": [],
   "source": [
    "null_dict={}\n",
    "for col in combine.columns:\n",
    "    null_dict[col] = combine[col].isnull().sum()"
   ]
  },
  {
   "cell_type": "code",
   "execution_count": 45,
   "metadata": {},
   "outputs": [
    {
     "name": "stdout",
     "output_type": "stream",
     "text": [
      "{'Trip_ID': 0, 'Trip_Distance': 0, 'Type_of_Cab': 33368, 'Customer_Since_Months': 9886, 'Life_Style_Index': 33520, 'Confidence_Life_Style_Index': 33520, 'Destination_Type': 0, 'Customer_Rating': 0, 'Cancellation_Last_1Month': 0, 'Var1': 117819, 'Var2': 0, 'Var3': 0, 'Gender': 0, 'Surge_Pricing_Type': 87395}\n"
     ]
    }
   ],
   "source": [
    "print(null_dict)"
   ]
  },
  {
   "cell_type": "code",
   "execution_count": 25,
   "metadata": {},
   "outputs": [
    {
     "data": {
      "text/plain": [
       "B    51585\n",
       "C    46732\n",
       "A    35878\n",
       "D    31885\n",
       "E    19609\n",
       "Name: Type_of_Cab, dtype: int64"
      ]
     },
     "execution_count": 25,
     "metadata": {},
     "output_type": "execute_result"
    }
   ],
   "source": [
    "combine[\"Type_of_Cab\"].value_counts()"
   ]
  },
  {
   "cell_type": "code",
   "execution_count": 26,
   "metadata": {},
   "outputs": [
    {
     "data": {
      "text/plain": [
       "<matplotlib.axes._subplots.AxesSubplot at 0x2641c4d9c08>"
      ]
     },
     "execution_count": 26,
     "metadata": {},
     "output_type": "execute_result"
    },
    {
     "data": {
      "image/png": "[encoded data removed]",
      "text/plain": [
       "<Figure size 1296x360 with 1 Axes>"
      ]
     },
     "metadata": {
      "needs_background": "light"
     },
     "output_type": "display_data"
    }
   ],
   "source": [
    "combine.groupby(\"Surge_Pricing_Type\").Type_of_Cab.value_counts().unstack(0).plot.bar()"
   ]
  },
  {
   "cell_type": "code",
   "execution_count": 31,
   "metadata": {},
   "outputs": [
    {
     "data": {
      "image/png": "[encoded data removed]",
      "text/plain": [
       "<Figure size 1296x360 with 1 Axes>"
      ]
     },
     "metadata": {
      "needs_background": "light"
     },
     "output_type": "display_data"
    }
   ],
   "source": [
    "plt.rcParams['figure.figsize']=(18,5)\n",
    "plt.subplot(1,3,1)\n",
    "sns.distplot(data1[\"Customer_Since_Months\"],color=\"red\")\n",
    "sns.distplot(data2[\"Customer_Since_Months\"],color=\"green\")\n",
    "sns.distplot(data3[\"Customer_Since_Months\"],color=\"yellow\")\n",
    "plt.title(\"Trip Distance\")\n",
    "plt.show()"
   ]
  },
  {
   "cell_type": "code",
   "execution_count": 4,
   "metadata": {},
   "outputs": [],
   "source": [
    "custmon =[]\n",
    "for i in range(len(combine)):\n",
    "    if combine[\"Customer_Since_Months\"][i] ==10.0:\n",
    "        custmon.append(\"Ten\")\n",
    "    elif combine[\"Customer_Since_Months\"][i]>=7.0:\n",
    "        custmon.append(\"7to9\")\n",
    "    elif combine[\"Customer_Since_Months\"][i]>=4.0:\n",
    "        custmon.append(\"4to6\")\n",
    "    elif combine[\"Customer_Since_Months\"][i]>=0.0:\n",
    "        custmon.append(\"0to3\")\n",
    "    else:\n",
    "        custmon.append(combine[\"Customer_Since_Months\"][i])"
   ]
  },
  {
   "cell_type": "code",
   "execution_count": 5,
   "metadata": {},
   "outputs": [],
   "source": [
    "combine[\"Customer_Since_Months\"]=custmon"
   ]
  },
  {
   "cell_type": "code",
   "execution_count": 73,
   "metadata": {},
   "outputs": [
    {
     "data": {
      "text/plain": [
       "9886"
      ]
     },
     "execution_count": 73,
     "metadata": {},
     "output_type": "execute_result"
    }
   ],
   "source": [
    "combine[\"Customer_Since_Months\"].isnull().sum()"
   ]
  },
  {
   "cell_type": "code",
   "execution_count": 75,
   "metadata": {},
   "outputs": [
    {
     "data": {
      "text/plain": [
       "<matplotlib.axes._subplots.AxesSubplot at 0x2641cc87148>"
      ]
     },
     "execution_count": 75,
     "metadata": {},
     "output_type": "execute_result"
    },
    {
     "data": {
      "image/png": "[encoded data removed]",
      "text/plain": [
       "<Figure size 1296x360 with 1 Axes>"
      ]
     },
     "metadata": {
      "needs_background": "light"
     },
     "output_type": "display_data"
    }
   ],
   "source": [
    "combine.groupby(\"Surge_Pricing_Type\").Customer_Since_Months.value_counts().unstack(0).plot.bar()"
   ]
  },
  {
   "cell_type": "code",
   "execution_count": 76,
   "metadata": {},
   "outputs": [
    {
     "data": {
      "image/png": "[encoded data removed]",
      "text/plain": [
       "<Figure size 1296x360 with 1 Axes>"
      ]
     },
     "metadata": {
      "needs_background": "light"
     },
     "output_type": "display_data"
    }
   ],
   "source": [
    "plt.rcParams['figure.figsize']=(18,5)\n",
    "plt.subplot(1,3,1)\n",
    "sns.distplot(data1[\"Life_Style_Index\"],color=\"red\")\n",
    "sns.distplot(data2[\"Life_Style_Index\"],color=\"green\")\n",
    "sns.distplot(data3[\"Life_Style_Index\"],color=\"yellow\")\n",
    "plt.title(\"LFI\")\n",
    "plt.show()"
   ]
  },
  {
   "cell_type": "code",
   "execution_count": 80,
   "metadata": {},
   "outputs": [
    {
     "data": {
      "text/plain": [
       "count    185537.000000\n",
       "mean          2.802594\n",
       "std           0.226323\n",
       "min           1.317850\n",
       "25%           2.654620\n",
       "50%           2.798280\n",
       "75%           2.947650\n",
       "max           4.875110\n",
       "Name: Life_Style_Index, dtype: float64"
      ]
     },
     "execution_count": 80,
     "metadata": {},
     "output_type": "execute_result"
    }
   ],
   "source": [
    "combine[\"Life_Style_Index\"].describe()"
   ]
  },
  {
   "cell_type": "code",
   "execution_count": 6,
   "metadata": {},
   "outputs": [],
   "source": [
    "combine[\"Life_Style_Index\"].fillna(np.mean(combine[\"Life_Style_Index\"]),inplace=True)"
   ]
  },
  {
   "cell_type": "code",
   "execution_count": 83,
   "metadata": {},
   "outputs": [
    {
     "data": {
      "text/plain": [
       "0"
      ]
     },
     "execution_count": 83,
     "metadata": {},
     "output_type": "execute_result"
    }
   ],
   "source": [
    "combine[\"Life_Style_Index\"].isnull().sum()"
   ]
  },
  {
   "cell_type": "code",
   "execution_count": 85,
   "metadata": {},
   "outputs": [
    {
     "data": {
      "text/plain": [
       "<matplotlib.axes._subplots.AxesSubplot at 0x2641c7ab408>"
      ]
     },
     "execution_count": 85,
     "metadata": {},
     "output_type": "execute_result"
    },
    {
     "data": {
      "image/png": "[encoded data removed]",
      "text/plain": [
       "<Figure size 1296x360 with 1 Axes>"
      ]
     },
     "metadata": {
      "needs_background": "light"
     },
     "output_type": "display_data"
    }
   ],
   "source": [
    "combine.groupby(\"Surge_Pricing_Type\").Confidence_Life_Style_Index.value_counts().unstack(0).plot.bar()"
   ]
  },
  {
   "cell_type": "code",
   "execution_count": 86,
   "metadata": {},
   "outputs": [
    {
     "data": {
      "text/plain": [
       "<matplotlib.axes._subplots.AxesSubplot at 0x2641d227cc8>"
      ]
     },
     "execution_count": 86,
     "metadata": {},
     "output_type": "execute_result"
    },
    {
     "data": {
      "image/png": "[encoded data removed]",
      "text/plain": [
       "<Figure size 1296x360 with 1 Axes>"
      ]
     },
     "metadata": {
      "needs_background": "light"
     },
     "output_type": "display_data"
    }
   ],
   "source": [
    "combine.groupby(\"Surge_Pricing_Type\").Destination_Type.value_counts().unstack(0).plot.bar()"
   ]
  },
  {
   "cell_type": "code",
   "execution_count": 87,
   "metadata": {},
   "outputs": [
    {
     "data": {
      "image/png": "[encoded data removed]",
      "text/plain": [
       "<Figure size 1296x360 with 1 Axes>"
      ]
     },
     "metadata": {
      "needs_background": "light"
     },
     "output_type": "display_data"
    }
   ],
   "source": [
    "plt.rcParams['figure.figsize']=(18,5)\n",
    "plt.subplot(1,3,1)\n",
    "sns.distplot(data1[\"Customer_Rating\"],color=\"red\")\n",
    "sns.distplot(data2[\"Customer_Rating\"],color=\"green\")\n",
    "sns.distplot(data3[\"Customer_Rating\"],color=\"yellow\")\n",
    "plt.title(\"LFI\")\n",
    "plt.show()"
   ]
  },
  {
   "cell_type": "code",
   "execution_count": 88,
   "metadata": {},
   "outputs": [
    {
     "data": {
      "image/png": "[encoded data removed]",
      "text/plain": [
       "<Figure size 1296x360 with 1 Axes>"
      ]
     },
     "metadata": {
      "needs_background": "light"
     },
     "output_type": "display_data"
    }
   ],
   "source": [
    "plt.rcParams['figure.figsize']=(18,5)\n",
    "plt.subplot(1,3,1)\n",
    "sns.distplot(data1[\"Cancellation_Last_1Month\"],color=\"red\")\n",
    "sns.distplot(data2[\"Cancellation_Last_1Month\"],color=\"green\")\n",
    "sns.distplot(data3[\"Cancellation_Last_1Month\"],color=\"yellow\")\n",
    "plt.title(\"Cancellation_Last_1Month\")\n",
    "plt.show()"
   ]
  },
  {
   "cell_type": "code",
   "execution_count": 89,
   "metadata": {},
   "outputs": [
    {
     "data": {
      "text/plain": [
       "<matplotlib.axes._subplots.AxesSubplot at 0x26416e8fdc8>"
      ]
     },
     "execution_count": 89,
     "metadata": {},
     "output_type": "execute_result"
    },
    {
     "data": {
      "image/png": "[encoded data removed]",
      "text/plain": [
       "<Figure size 1296x360 with 1 Axes>"
      ]
     },
     "metadata": {
      "needs_background": "light"
     },
     "output_type": "display_data"
    }
   ],
   "source": [
    "data_train.groupby(\"Surge_Pricing_Type\").Cancellation_Last_1Month.value_counts().unstack(0).plot.bar()"
   ]
  },
  {
   "cell_type": "code",
   "execution_count": 91,
   "metadata": {},
   "outputs": [
    {
     "data": {
      "image/png": "[encoded data removed]",
      "text/plain": [
       "<Figure size 1296x360 with 1 Axes>"
      ]
     },
     "metadata": {
      "needs_background": "light"
     },
     "output_type": "display_data"
    }
   ],
   "source": [
    "plt.rcParams['figure.figsize']=(18,5)\n",
    "plt.subplot(1,3,1)\n",
    "sns.distplot(np.log(data1[\"Var1\"]),color=\"red\")\n",
    "sns.distplot(np.log(data2[\"Var1\"]),color=\"green\")\n",
    "sns.distplot(np.log(data3[\"Var1\"]),color=\"yellow\")\n",
    "plt.title(\"Var1\")\n",
    "plt.show()"
   ]
  },
  {
   "cell_type": "code",
   "execution_count": 7,
   "metadata": {},
   "outputs": [],
   "source": [
    "combine[\"Var1\"]=np.log(combine[\"Var1\"])"
   ]
  },
  {
   "cell_type": "code",
   "execution_count": 93,
   "metadata": {},
   "outputs": [
    {
     "data": {
      "text/plain": [
       "count    101238.000000\n",
       "mean          4.102318\n",
       "std           0.343096\n",
       "min           3.401197\n",
       "25%           3.828641\n",
       "50%           4.110874\n",
       "75%           4.369448\n",
       "max           5.347108\n",
       "Name: Var1, dtype: float64"
      ]
     },
     "execution_count": 93,
     "metadata": {},
     "output_type": "execute_result"
    }
   ],
   "source": [
    "combine[\"Var1\"].describe()"
   ]
  },
  {
   "cell_type": "code",
   "execution_count": 8,
   "metadata": {},
   "outputs": [],
   "source": [
    "combine[\"Var1\"].fillna(np.mean(combine[\"Var1\"]),inplace=True)"
   ]
  },
  {
   "cell_type": "code",
   "execution_count": 95,
   "metadata": {},
   "outputs": [
    {
     "data": {
      "text/plain": [
       "0"
      ]
     },
     "execution_count": 95,
     "metadata": {},
     "output_type": "execute_result"
    }
   ],
   "source": [
    "combine[\"Var1\"].isnull().sum()"
   ]
  },
  {
   "cell_type": "code",
   "execution_count": 96,
   "metadata": {},
   "outputs": [
    {
     "data": {
      "image/png": "[encoded data removed]",
      "text/plain": [
       "<Figure size 1296x360 with 1 Axes>"
      ]
     },
     "metadata": {
      "needs_background": "light"
     },
     "output_type": "display_data"
    }
   ],
   "source": [
    "plt.rcParams['figure.figsize']=(18,5)\n",
    "plt.subplot(1,3,1)\n",
    "sns.distplot(np.log(data1[\"Var2\"]),color=\"red\")\n",
    "sns.distplot(np.log(data2[\"Var2\"]),color=\"green\")\n",
    "sns.distplot(np.log(data3[\"Var2\"]),color=\"yellow\")\n",
    "plt.title(\"Var2\")\n",
    "plt.show()"
   ]
  },
  {
   "cell_type": "code",
   "execution_count": 27,
   "metadata": {},
   "outputs": [
    {
     "data": {
      "image/png": "[encoded data removed]",
      "text/plain": [
       "<Figure size 1296x360 with 1 Axes>"
      ]
     },
     "metadata": {
      "needs_background": "light"
     },
     "output_type": "display_data"
    }
   ],
   "source": [
    "plt.rcParams['figure.figsize']=(18,5)\n",
    "plt.subplot(1,3,1)\n",
    "sns.distplot(data1[\"Var3\"],color=\"red\")\n",
    "sns.distplot(data2[\"Var3\"],color=\"green\")\n",
    "sns.distplot(data3[\"Var3\"],color=\"yellow\")\n",
    "plt.title(\"Var3\")\n",
    "plt.show()"
   ]
  },
  {
   "cell_type": "code",
   "execution_count": 98,
   "metadata": {},
   "outputs": [
    {
     "data": {
      "text/plain": [
       "<matplotlib.axes._subplots.AxesSubplot at 0x26420e84e08>"
      ]
     },
     "execution_count": 98,
     "metadata": {},
     "output_type": "execute_result"
    },
    {
     "data": {
      "image/png": "[encoded data removed]",
      "text/plain": [
       "<Figure size 1296x360 with 1 Axes>"
      ]
     },
     "metadata": {
      "needs_background": "light"
     },
     "output_type": "display_data"
    }
   ],
   "source": [
    "combine.groupby(\"Surge_Pricing_Type\").Gender.value_counts().unstack(0).plot.bar()"
   ]
  },
  {
   "cell_type": "code",
   "execution_count": 9,
   "metadata": {},
   "outputs": [],
   "source": [
    "missing_val ={}\n",
    "missing_val_idx={}\n",
    "cols = list(combine.columns)\n",
    "for col in cols:\n",
    "    missing_val[col]=combine[col].isna().sum()\n",
    "    missing_val_idx[col]= list(combine.loc[combine[col].isna()].index)"
   ]
  },
  {
   "cell_type": "code",
   "execution_count": 105,
   "metadata": {},
   "outputs": [
    {
     "name": "stdout",
     "output_type": "stream",
     "text": [
      "{'Trip_ID': 0, 'Trip_Distance': 0, 'Type_of_Cab': 33368, 'Customer_Since_Months': 9886, 'Life_Style_Index': 0, 'Confidence_Life_Style_Index': 33520, 'Destination_Type': 0, 'Customer_Rating': 0, 'Cancellation_Last_1Month': 0, 'Var1': 0, 'Var2': 0, 'Var3': 0, 'Gender': 0, 'Surge_Pricing_Type': 87395}\n"
     ]
    }
   ],
   "source": [
    "print(missing_val)"
   ]
  },
  {
   "cell_type": "code",
   "execution_count": 10,
   "metadata": {},
   "outputs": [],
   "source": [
    "#combine1.dtypes\n",
    "cols = [\"Type_of_Cab\",\"Customer_Since_Months\",\"Confidence_Life_Style_Index\",\"Destination_Type\",\"Gender\"]\n",
    "for col in cols:\n",
    "    combine[col]=combine[col].astype(\"category\")"
   ]
  },
  {
   "cell_type": "code",
   "execution_count": 11,
   "metadata": {},
   "outputs": [],
   "source": [
    "combine1 = combine.drop(columns=[\"Trip_ID\",\"Surge_Pricing_Type\"])"
   ]
  },
  {
   "cell_type": "code",
   "execution_count": 12,
   "metadata": {},
   "outputs": [],
   "source": [
    "from sklearn.neighbors import KNeighborsClassifier\n",
    "def getmissingval(X_train,Y_train,X_mis):\n",
    "    model = KNeighborsClassifier()\n",
    "    model.fit(X_train,Y_train)\n",
    "    Y_mis=model.predict(X_mis)\n",
    "    return Y_mis\n",
    "\n",
    "cols1 = [\"Customer_Since_Months\",\"Type_of_Cab\",\"Confidence_Life_Style_Index\"]\n",
    "\n",
    "for col in cols1:\n",
    "    X_mis = combine1.loc[missing_val_idx[col]]\n",
    "    X_train = combine1.drop(missing_val_idx[col])\n",
    "    Y_train = X_train[col]\n",
    "    X_train = X_train.drop(columns=[col])\n",
    "    X_train = pd.get_dummies(X_train)\n",
    "    X_mis = X_mis.drop(columns=[col])\n",
    "    X_mis = pd.get_dummies(X_mis)\n",
    "    Y_mis = getmissingval(X_train,Y_train,X_mis)\n",
    "    for i in range(missing_val[col]):\n",
    "        combine1[col][missing_val_idx[col][i]]=Y_mis[i]\n"
   ]
  },
  {
   "cell_type": "code",
   "execution_count": 115,
   "metadata": {},
   "outputs": [
    {
     "data": {
      "text/html": [
       "<div>\n",
       "<style scoped>\n",
       "    .dataframe tbody tr th:only-of-type {\n",
       "        vertical-align: middle;\n",
       "    }\n",
       "\n",
       "    .dataframe tbody tr th {\n",
       "        vertical-align: top;\n",
       "    }\n",
       "\n",
       "    .dataframe thead th {\n",
       "        text-align: right;\n",
       "    }\n",
       "</style>\n",
       "<table border=\"1\" class=\"dataframe\">\n",
       "  <thead>\n",
       "    <tr style=\"text-align: right;\">\n",
       "      <th></th>\n",
       "      <th>Trip_Distance</th>\n",
       "      <th>Type_of_Cab</th>\n",
       "      <th>Customer_Since_Months</th>\n",
       "      <th>Life_Style_Index</th>\n",
       "      <th>Confidence_Life_Style_Index</th>\n",
       "      <th>Destination_Type</th>\n",
       "      <th>Customer_Rating</th>\n",
       "      <th>Cancellation_Last_1Month</th>\n",
       "      <th>Var1</th>\n",
       "      <th>Var2</th>\n",
       "      <th>Var3</th>\n",
       "      <th>Gender</th>\n",
       "    </tr>\n",
       "  </thead>\n",
       "  <tbody>\n",
       "    <tr>\n",
       "      <th>0</th>\n",
       "      <td>6.77</td>\n",
       "      <td>B</td>\n",
       "      <td>0to3</td>\n",
       "      <td>2.427690</td>\n",
       "      <td>A</td>\n",
       "      <td>A</td>\n",
       "      <td>3.90500</td>\n",
       "      <td>0</td>\n",
       "      <td>3.688879</td>\n",
       "      <td>46</td>\n",
       "      <td>60</td>\n",
       "      <td>Female</td>\n",
       "    </tr>\n",
       "    <tr>\n",
       "      <th>1</th>\n",
       "      <td>29.47</td>\n",
       "      <td>B</td>\n",
       "      <td>Ten</td>\n",
       "      <td>2.782450</td>\n",
       "      <td>B</td>\n",
       "      <td>A</td>\n",
       "      <td>3.45000</td>\n",
       "      <td>0</td>\n",
       "      <td>3.637586</td>\n",
       "      <td>56</td>\n",
       "      <td>78</td>\n",
       "      <td>Male</td>\n",
       "    </tr>\n",
       "    <tr>\n",
       "      <th>2</th>\n",
       "      <td>41.58</td>\n",
       "      <td>B</td>\n",
       "      <td>Ten</td>\n",
       "      <td>2.802594</td>\n",
       "      <td>A</td>\n",
       "      <td>E</td>\n",
       "      <td>3.50125</td>\n",
       "      <td>2</td>\n",
       "      <td>4.102318</td>\n",
       "      <td>56</td>\n",
       "      <td>77</td>\n",
       "      <td>Male</td>\n",
       "    </tr>\n",
       "    <tr>\n",
       "      <th>3</th>\n",
       "      <td>61.56</td>\n",
       "      <td>C</td>\n",
       "      <td>Ten</td>\n",
       "      <td>2.802594</td>\n",
       "      <td>B</td>\n",
       "      <td>A</td>\n",
       "      <td>3.45375</td>\n",
       "      <td>0</td>\n",
       "      <td>4.102318</td>\n",
       "      <td>52</td>\n",
       "      <td>74</td>\n",
       "      <td>Male</td>\n",
       "    </tr>\n",
       "    <tr>\n",
       "      <th>4</th>\n",
       "      <td>54.95</td>\n",
       "      <td>C</td>\n",
       "      <td>Ten</td>\n",
       "      <td>3.034530</td>\n",
       "      <td>B</td>\n",
       "      <td>A</td>\n",
       "      <td>3.40250</td>\n",
       "      <td>4</td>\n",
       "      <td>3.931826</td>\n",
       "      <td>49</td>\n",
       "      <td>102</td>\n",
       "      <td>Male</td>\n",
       "    </tr>\n",
       "  </tbody>\n",
       "</table>\n",
       "</div>"
      ],
      "text/plain": [
       "   Trip_Distance Type_of_Cab Customer_Since_Months  Life_Style_Index  \\\n",
       "0           6.77           B                  0to3          2.427690   \n",
       "1          29.47           B                   Ten          2.782450   \n",
       "2          41.58           B                   Ten          2.802594   \n",
       "3          61.56           C                   Ten          2.802594   \n",
       "4          54.95           C                   Ten          3.034530   \n",
       "\n",
       "  Confidence_Life_Style_Index Destination_Type  Customer_Rating  \\\n",
       "0                           A                A          3.90500   \n",
       "1                           B                A          3.45000   \n",
       "2                           A                E          3.50125   \n",
       "3                           B                A          3.45375   \n",
       "4                           B                A          3.40250   \n",
       "\n",
       "   Cancellation_Last_1Month      Var1  Var2  Var3  Gender  \n",
       "0                         0  3.688879    46    60  Female  \n",
       "1                         0  3.637586    56    78    Male  \n",
       "2                         2  4.102318    56    77    Male  \n",
       "3                         0  4.102318    52    74    Male  \n",
       "4                         4  3.931826    49   102    Male  "
      ]
     },
     "execution_count": 115,
     "metadata": {},
     "output_type": "execute_result"
    }
   ],
   "source": [
    "combine1.head()"
   ]
  },
  {
   "cell_type": "code",
   "execution_count": 116,
   "metadata": {},
   "outputs": [
    {
     "data": {
      "text/html": [
       "<div>\n",
       "<style scoped>\n",
       "    .dataframe tbody tr th:only-of-type {\n",
       "        vertical-align: middle;\n",
       "    }\n",
       "\n",
       "    .dataframe tbody tr th {\n",
       "        vertical-align: top;\n",
       "    }\n",
       "\n",
       "    .dataframe thead th {\n",
       "        text-align: right;\n",
       "    }\n",
       "</style>\n",
       "<table border=\"1\" class=\"dataframe\">\n",
       "  <thead>\n",
       "    <tr style=\"text-align: right;\">\n",
       "      <th></th>\n",
       "      <th>Trip_ID</th>\n",
       "      <th>Trip_Distance</th>\n",
       "      <th>Type_of_Cab</th>\n",
       "      <th>Customer_Since_Months</th>\n",
       "      <th>Life_Style_Index</th>\n",
       "      <th>Confidence_Life_Style_Index</th>\n",
       "      <th>Destination_Type</th>\n",
       "      <th>Customer_Rating</th>\n",
       "      <th>Cancellation_Last_1Month</th>\n",
       "      <th>Var1</th>\n",
       "      <th>Var2</th>\n",
       "      <th>Var3</th>\n",
       "      <th>Gender</th>\n",
       "      <th>Surge_Pricing_Type</th>\n",
       "    </tr>\n",
       "  </thead>\n",
       "  <tbody>\n",
       "    <tr>\n",
       "      <th>0</th>\n",
       "      <td>T0005689460</td>\n",
       "      <td>6.77</td>\n",
       "      <td>B</td>\n",
       "      <td>0to3</td>\n",
       "      <td>2.427690</td>\n",
       "      <td>A</td>\n",
       "      <td>A</td>\n",
       "      <td>3.90500</td>\n",
       "      <td>0</td>\n",
       "      <td>3.688879</td>\n",
       "      <td>46</td>\n",
       "      <td>60</td>\n",
       "      <td>Female</td>\n",
       "      <td>2.0</td>\n",
       "    </tr>\n",
       "    <tr>\n",
       "      <th>1</th>\n",
       "      <td>T0005689461</td>\n",
       "      <td>29.47</td>\n",
       "      <td>B</td>\n",
       "      <td>Ten</td>\n",
       "      <td>2.782450</td>\n",
       "      <td>B</td>\n",
       "      <td>A</td>\n",
       "      <td>3.45000</td>\n",
       "      <td>0</td>\n",
       "      <td>3.637586</td>\n",
       "      <td>56</td>\n",
       "      <td>78</td>\n",
       "      <td>Male</td>\n",
       "      <td>2.0</td>\n",
       "    </tr>\n",
       "    <tr>\n",
       "      <th>2</th>\n",
       "      <td>T0005689464</td>\n",
       "      <td>41.58</td>\n",
       "      <td>NaN</td>\n",
       "      <td>Ten</td>\n",
       "      <td>2.802594</td>\n",
       "      <td>NaN</td>\n",
       "      <td>E</td>\n",
       "      <td>3.50125</td>\n",
       "      <td>2</td>\n",
       "      <td>4.102318</td>\n",
       "      <td>56</td>\n",
       "      <td>77</td>\n",
       "      <td>Male</td>\n",
       "      <td>2.0</td>\n",
       "    </tr>\n",
       "    <tr>\n",
       "      <th>3</th>\n",
       "      <td>T0005689465</td>\n",
       "      <td>61.56</td>\n",
       "      <td>C</td>\n",
       "      <td>Ten</td>\n",
       "      <td>2.802594</td>\n",
       "      <td>NaN</td>\n",
       "      <td>A</td>\n",
       "      <td>3.45375</td>\n",
       "      <td>0</td>\n",
       "      <td>4.102318</td>\n",
       "      <td>52</td>\n",
       "      <td>74</td>\n",
       "      <td>Male</td>\n",
       "      <td>3.0</td>\n",
       "    </tr>\n",
       "    <tr>\n",
       "      <th>4</th>\n",
       "      <td>T0005689467</td>\n",
       "      <td>54.95</td>\n",
       "      <td>C</td>\n",
       "      <td>Ten</td>\n",
       "      <td>3.034530</td>\n",
       "      <td>B</td>\n",
       "      <td>A</td>\n",
       "      <td>3.40250</td>\n",
       "      <td>4</td>\n",
       "      <td>3.931826</td>\n",
       "      <td>49</td>\n",
       "      <td>102</td>\n",
       "      <td>Male</td>\n",
       "      <td>2.0</td>\n",
       "    </tr>\n",
       "  </tbody>\n",
       "</table>\n",
       "</div>"
      ],
      "text/plain": [
       "       Trip_ID  Trip_Distance Type_of_Cab Customer_Since_Months  \\\n",
       "0  T0005689460           6.77           B                  0to3   \n",
       "1  T0005689461          29.47           B                   Ten   \n",
       "2  T0005689464          41.58         NaN                   Ten   \n",
       "3  T0005689465          61.56           C                   Ten   \n",
       "4  T0005689467          54.95           C                   Ten   \n",
       "\n",
       "   Life_Style_Index Confidence_Life_Style_Index Destination_Type  \\\n",
       "0          2.427690                           A                A   \n",
       "1          2.782450                           B                A   \n",
       "2          2.802594                         NaN                E   \n",
       "3          2.802594                         NaN                A   \n",
       "4          3.034530                           B                A   \n",
       "\n",
       "   Customer_Rating  Cancellation_Last_1Month      Var1  Var2  Var3  Gender  \\\n",
       "0          3.90500                         0  3.688879    46    60  Female   \n",
       "1          3.45000                         0  3.637586    56    78    Male   \n",
       "2          3.50125                         2  4.102318    56    77    Male   \n",
       "3          3.45375                         0  4.102318    52    74    Male   \n",
       "4          3.40250                         4  3.931826    49   102    Male   \n",
       "\n",
       "   Surge_Pricing_Type  \n",
       "0                 2.0  \n",
       "1                 2.0  \n",
       "2                 2.0  \n",
       "3                 3.0  \n",
       "4                 2.0  "
      ]
     },
     "execution_count": 116,
     "metadata": {},
     "output_type": "execute_result"
    }
   ],
   "source": [
    "combine.head()"
   ]
  },
  {
   "cell_type": "code",
   "execution_count": 13,
   "metadata": {},
   "outputs": [],
   "source": [
    "combine1[\"Trip_ID\"] = combine[\"Trip_ID\"]\n",
    "combine1[\"Surge_Pricing_Type\"] = combine[\"Surge_Pricing_Type\"]"
   ]
  },
  {
   "cell_type": "code",
   "execution_count": 156,
   "metadata": {},
   "outputs": [
    {
     "data": {
      "text/plain": [
       "Trip_Distance                   float64\n",
       "Type_of_Cab                    category\n",
       "Customer_Since_Months          category\n",
       "Life_Style_Index                float64\n",
       "Confidence_Life_Style_Index    category\n",
       "Destination_Type               category\n",
       "Customer_Rating                 float64\n",
       "Cancellation_Last_1Month          int64\n",
       "Var1                            float64\n",
       "Var2                              int64\n",
       "Var3                              int64\n",
       "Gender                         category\n",
       "Trip_ID                          object\n",
       "Surge_Pricing_Type              float64\n",
       "dtype: object"
      ]
     },
     "execution_count": 156,
     "metadata": {},
     "output_type": "execute_result"
    }
   ],
   "source": [
    "combine1.dtypes"
   ]
  },
  {
   "cell_type": "code",
   "execution_count": 14,
   "metadata": {},
   "outputs": [],
   "source": [
    "data_test = combine1[combine1[\"Surge_Pricing_Type\"].isnull()]"
   ]
  },
  {
   "cell_type": "code",
   "execution_count": 15,
   "metadata": {},
   "outputs": [],
   "source": [
    "data_test = data_test.drop(columns=[\"Surge_Pricing_Type\",\"Trip_ID\"])"
   ]
  },
  {
   "cell_type": "code",
   "execution_count": 16,
   "metadata": {},
   "outputs": [],
   "source": [
    "data_train = combine1[combine1[\"Surge_Pricing_Type\"].notna()]"
   ]
  },
  {
   "cell_type": "code",
   "execution_count": 17,
   "metadata": {},
   "outputs": [
    {
     "name": "stderr",
     "output_type": "stream",
     "text": [
      "C:\\Users\\I354298\\AppData\\Local\\Continuum\\anaconda3\\lib\\site-packages\\ipykernel_launcher.py:1: SettingWithCopyWarning: \n",
      "A value is trying to be set on a copy of a slice from a DataFrame.\n",
      "Try using .loc[row_indexer,col_indexer] = value instead\n",
      "\n",
      "See the caveats in the documentation: https://pandas.pydata.org/pandas-docs/stable/user_guide/indexing.html#returning-a-view-versus-a-copy\n",
      "  \"\"\"Entry point for launching an IPython kernel.\n"
     ]
    }
   ],
   "source": [
    "data_train[\"Surge_Pricing_Type\"] = data_train[\"Surge_Pricing_Type\"].astype(\"int\")"
   ]
  },
  {
   "cell_type": "code",
   "execution_count": 161,
   "metadata": {},
   "outputs": [
    {
     "data": {
      "text/plain": [
       "Trip_Distance                   float64\n",
       "Type_of_Cab                    category\n",
       "Customer_Since_Months          category\n",
       "Life_Style_Index                float64\n",
       "Confidence_Life_Style_Index    category\n",
       "Destination_Type               category\n",
       "Customer_Rating                 float64\n",
       "Cancellation_Last_1Month          int64\n",
       "Var1                            float64\n",
       "Var2                              int64\n",
       "Var3                              int64\n",
       "Gender                         category\n",
       "Trip_ID                          object\n",
       "Surge_Pricing_Type                int32\n",
       "dtype: object"
      ]
     },
     "execution_count": 161,
     "metadata": {},
     "output_type": "execute_result"
    }
   ],
   "source": [
    "data_train.dtypes"
   ]
  },
  {
   "cell_type": "code",
   "execution_count": 18,
   "metadata": {},
   "outputs": [],
   "source": [
    "#Model\n",
    "from sklearn.model_selection import StratifiedKFold\n",
    "from sklearn.metrics import accuracy_score\n",
    "import lightgbm as lgb\n",
    "\n",
    "Y = data_train[\"Surge_Pricing_Type\"]\n",
    "X = data_train.drop(columns=[\"Surge_Pricing_Type\",\"Trip_ID\"])\n",
    "X1 = pd.get_dummies(X)\n",
    "X_test = pd.get_dummies(data_test)\n",
    "\n"
   ]
  },
  {
   "cell_type": "code",
   "execution_count": 19,
   "metadata": {},
   "outputs": [],
   "source": [
    "Y = Y-1"
   ]
  },
  {
   "cell_type": "code",
   "execution_count": 172,
   "metadata": {},
   "outputs": [
    {
     "data": {
      "text/plain": [
       "1    56728\n",
       "2    47720\n",
       "0    27214\n",
       "Name: Surge_Pricing_Type, dtype: int64"
      ]
     },
     "execution_count": 172,
     "metadata": {},
     "output_type": "execute_result"
    }
   ],
   "source": [
    "Y.value_counts()"
   ]
  },
  {
   "cell_type": "code",
   "execution_count": 177,
   "metadata": {
    "scrolled": true
   },
   "outputs": [
    {
     "name": "stderr",
     "output_type": "stream",
     "text": [
      "C:\\Users\\I354298\\AppData\\Local\\Continuum\\anaconda3\\lib\\site-packages\\sklearn\\model_selection\\_split.py:296: FutureWarning: Setting a random_state has no effect since shuffle is False. This will raise an error in 0.24. You should leave random_state to its default (None), or set shuffle=True.\n",
      "  FutureWarning\n"
     ]
    },
    {
     "name": "stdout",
     "output_type": "stream",
     "text": [
      "Fold 1\n",
      "Training until validation scores don't improve for 5000 rounds\n",
      "[1000]\ttraining's multi_logloss: 0.744219\tvalid_1's multi_logloss: 0.753124\n",
      "[2000]\ttraining's multi_logloss: 0.721336\tvalid_1's multi_logloss: 0.738087\n",
      "[3000]\ttraining's multi_logloss: 0.710213\tvalid_1's multi_logloss: 0.734743\n",
      "[4000]\ttraining's multi_logloss: 0.701788\tvalid_1's multi_logloss: 0.733863\n",
      "[5000]\ttraining's multi_logloss: 0.694469\tvalid_1's multi_logloss: 0.733652\n",
      "[6000]\ttraining's multi_logloss: 0.687688\tvalid_1's multi_logloss: 0.733765\n",
      "[7000]\ttraining's multi_logloss: 0.681215\tvalid_1's multi_logloss: 0.733968\n",
      "[8000]\ttraining's multi_logloss: 0.674923\tvalid_1's multi_logloss: 0.734172\n",
      "[9000]\ttraining's multi_logloss: 0.669014\tvalid_1's multi_logloss: 0.734601\n",
      "Early stopping, best iteration is:\n",
      "[4630]\ttraining's multi_logloss: 0.697095\tvalid_1's multi_logloss: 0.73361\n",
      "OOF Accuracy 0.6890873739214971 and Training Accuracy 0.7032477100454193\n",
      "Fold 2\n",
      "Training until validation scores don't improve for 5000 rounds\n",
      "[1000]\ttraining's multi_logloss: 0.743459\tvalid_1's multi_logloss: 0.755548\n",
      "[2000]\ttraining's multi_logloss: 0.720499\tvalid_1's multi_logloss: 0.741438\n",
      "[3000]\ttraining's multi_logloss: 0.709299\tvalid_1's multi_logloss: 0.738394\n",
      "[4000]\ttraining's multi_logloss: 0.700892\tvalid_1's multi_logloss: 0.737618\n",
      "[5000]\ttraining's multi_logloss: 0.693608\tvalid_1's multi_logloss: 0.737424\n",
      "[6000]\ttraining's multi_logloss: 0.686756\tvalid_1's multi_logloss: 0.737578\n",
      "[7000]\ttraining's multi_logloss: 0.680188\tvalid_1's multi_logloss: 0.737844\n",
      "[8000]\ttraining's multi_logloss: 0.673934\tvalid_1's multi_logloss: 0.73811\n",
      "[9000]\ttraining's multi_logloss: 0.667953\tvalid_1's multi_logloss: 0.738471\n",
      "[10000]\ttraining's multi_logloss: 0.662151\tvalid_1's multi_logloss: 0.738864\n",
      "Early stopping, best iteration is:\n",
      "[5129]\ttraining's multi_logloss: 0.692729\tvalid_1's multi_logloss: 0.737396\n",
      "OOF Accuracy 0.6909709563738 and Training Accuracy 0.7041515395482372\n",
      "Fold 3\n",
      "Training until validation scores don't improve for 5000 rounds\n",
      "[1000]\ttraining's multi_logloss: 0.744543\tvalid_1's multi_logloss: 0.749314\n",
      "[2000]\ttraining's multi_logloss: 0.721724\tvalid_1's multi_logloss: 0.733412\n",
      "[3000]\ttraining's multi_logloss: 0.710423\tvalid_1's multi_logloss: 0.729522\n",
      "[4000]\ttraining's multi_logloss: 0.701896\tvalid_1's multi_logloss: 0.728432\n",
      "[5000]\ttraining's multi_logloss: 0.694463\tvalid_1's multi_logloss: 0.728242\n",
      "[6000]\ttraining's multi_logloss: 0.687531\tvalid_1's multi_logloss: 0.728316\n",
      "[7000]\ttraining's multi_logloss: 0.680942\tvalid_1's multi_logloss: 0.728623\n",
      "[8000]\ttraining's multi_logloss: 0.674703\tvalid_1's multi_logloss: 0.728974\n",
      "[9000]\ttraining's multi_logloss: 0.668759\tvalid_1's multi_logloss: 0.729375\n",
      "[10000]\ttraining's multi_logloss: 0.662959\tvalid_1's multi_logloss: 0.729816\n",
      "Early stopping, best iteration is:\n",
      "[5540]\ttraining's multi_logloss: 0.690662\tvalid_1's multi_logloss: 0.728231\n",
      "OOF Accuracy 0.6934621460687811 and Training Accuracy 0.7047667512266258\n",
      "Fold 4\n",
      "Training until validation scores don't improve for 5000 rounds\n",
      "[1000]\ttraining's multi_logloss: 0.743727\tvalid_1's multi_logloss: 0.754556\n",
      "[2000]\ttraining's multi_logloss: 0.720863\tvalid_1's multi_logloss: 0.739601\n",
      "[3000]\ttraining's multi_logloss: 0.709635\tvalid_1's multi_logloss: 0.735836\n",
      "[4000]\ttraining's multi_logloss: 0.701228\tvalid_1's multi_logloss: 0.734614\n",
      "[5000]\ttraining's multi_logloss: 0.693918\tvalid_1's multi_logloss: 0.734258\n",
      "[6000]\ttraining's multi_logloss: 0.687034\tvalid_1's multi_logloss: 0.73426\n",
      "[7000]\ttraining's multi_logloss: 0.680564\tvalid_1's multi_logloss: 0.734328\n",
      "[8000]\ttraining's multi_logloss: 0.674304\tvalid_1's multi_logloss: 0.734442\n",
      "[9000]\ttraining's multi_logloss: 0.668266\tvalid_1's multi_logloss: 0.734669\n",
      "[10000]\ttraining's multi_logloss: 0.662485\tvalid_1's multi_logloss: 0.734989\n",
      "Early stopping, best iteration is:\n",
      "[5499]\ttraining's multi_logloss: 0.690418\tvalid_1's multi_logloss: 0.734251\n",
      "OOF Accuracy 0.6896342204399076 and Training Accuracy 0.7047363704030016\n",
      "Fold 5\n",
      "Training until validation scores don't improve for 5000 rounds\n",
      "[1000]\ttraining's multi_logloss: 0.74384\tvalid_1's multi_logloss: 0.753273\n",
      "[2000]\ttraining's multi_logloss: 0.720889\tvalid_1's multi_logloss: 0.738779\n",
      "[3000]\ttraining's multi_logloss: 0.709519\tvalid_1's multi_logloss: 0.73551\n",
      "[4000]\ttraining's multi_logloss: 0.701091\tvalid_1's multi_logloss: 0.734691\n",
      "[5000]\ttraining's multi_logloss: 0.693655\tvalid_1's multi_logloss: 0.734553\n",
      "[6000]\ttraining's multi_logloss: 0.686776\tvalid_1's multi_logloss: 0.734555\n",
      "[7000]\ttraining's multi_logloss: 0.680284\tvalid_1's multi_logloss: 0.734823\n",
      "[8000]\ttraining's multi_logloss: 0.673992\tvalid_1's multi_logloss: 0.73509\n",
      "[9000]\ttraining's multi_logloss: 0.668032\tvalid_1's multi_logloss: 0.735433\n",
      "[10000]\ttraining's multi_logloss: 0.662121\tvalid_1's multi_logloss: 0.73581\n",
      "Early stopping, best iteration is:\n",
      "[5424]\ttraining's multi_logloss: 0.690654\tvalid_1's multi_logloss: 0.734511\n",
      "OOF Accuracy 0.6905456313039251 and Training Accuracy 0.7050781546687731\n",
      "Fold 6\n",
      "Training until validation scores don't improve for 5000 rounds\n",
      "[1000]\ttraining's multi_logloss: 0.744626\tvalid_1's multi_logloss: 0.749589\n",
      "[2000]\ttraining's multi_logloss: 0.7217\tvalid_1's multi_logloss: 0.735297\n",
      "[3000]\ttraining's multi_logloss: 0.710412\tvalid_1's multi_logloss: 0.732175\n",
      "[4000]\ttraining's multi_logloss: 0.702016\tvalid_1's multi_logloss: 0.731402\n",
      "[5000]\ttraining's multi_logloss: 0.694686\tvalid_1's multi_logloss: 0.731244\n",
      "[6000]\ttraining's multi_logloss: 0.687793\tvalid_1's multi_logloss: 0.731398\n",
      "[7000]\ttraining's multi_logloss: 0.681315\tvalid_1's multi_logloss: 0.731407\n",
      "[8000]\ttraining's multi_logloss: 0.675083\tvalid_1's multi_logloss: 0.731633\n",
      "[9000]\ttraining's multi_logloss: 0.669141\tvalid_1's multi_logloss: 0.731962\n",
      "[10000]\ttraining's multi_logloss: 0.663339\tvalid_1's multi_logloss: 0.732312\n",
      "Early stopping, best iteration is:\n",
      "[5008]\ttraining's multi_logloss: 0.694622\tvalid_1's multi_logloss: 0.731239\n",
      "OOF Accuracy 0.6961963786608336 and Training Accuracy 0.7049642265801825\n",
      "Fold 7\n",
      "Training until validation scores don't improve for 5000 rounds\n",
      "[1000]\ttraining's multi_logloss: 0.743921\tvalid_1's multi_logloss: 0.752926\n",
      "[2000]\ttraining's multi_logloss: 0.720964\tvalid_1's multi_logloss: 0.738859\n",
      "[3000]\ttraining's multi_logloss: 0.709802\tvalid_1's multi_logloss: 0.735798\n",
      "[4000]\ttraining's multi_logloss: 0.70132\tvalid_1's multi_logloss: 0.734994\n",
      "[5000]\ttraining's multi_logloss: 0.693889\tvalid_1's multi_logloss: 0.734845\n",
      "[6000]\ttraining's multi_logloss: 0.68698\tvalid_1's multi_logloss: 0.734862\n",
      "[7000]\ttraining's multi_logloss: 0.680481\tvalid_1's multi_logloss: 0.734971\n",
      "[8000]\ttraining's multi_logloss: 0.674247\tvalid_1's multi_logloss: 0.73519\n",
      "[9000]\ttraining's multi_logloss: 0.668362\tvalid_1's multi_logloss: 0.735464\n",
      "[10000]\ttraining's multi_logloss: 0.662516\tvalid_1's multi_logloss: 0.735681\n",
      "Early stopping, best iteration is:\n",
      "[5469]\ttraining's multi_logloss: 0.690579\tvalid_1's multi_logloss: 0.734769\n",
      "OOF Accuracy 0.6925928176459865 and Training Accuracy 0.7047743464325318\n",
      "Fold 8\n",
      "Training until validation scores don't improve for 5000 rounds\n",
      "[1000]\ttraining's multi_logloss: 0.744223\tvalid_1's multi_logloss: 0.751429\n",
      "[2000]\ttraining's multi_logloss: 0.721523\tvalid_1's multi_logloss: 0.73618\n",
      "[3000]\ttraining's multi_logloss: 0.710307\tvalid_1's multi_logloss: 0.73243\n",
      "[4000]\ttraining's multi_logloss: 0.701746\tvalid_1's multi_logloss: 0.731288\n",
      "[5000]\ttraining's multi_logloss: 0.694255\tvalid_1's multi_logloss: 0.730967\n",
      "[6000]\ttraining's multi_logloss: 0.687432\tvalid_1's multi_logloss: 0.730908\n",
      "[7000]\ttraining's multi_logloss: 0.681029\tvalid_1's multi_logloss: 0.730972\n",
      "[8000]\ttraining's multi_logloss: 0.674836\tvalid_1's multi_logloss: 0.731123\n",
      "[9000]\ttraining's multi_logloss: 0.668892\tvalid_1's multi_logloss: 0.731305\n",
      "[10000]\ttraining's multi_logloss: 0.663127\tvalid_1's multi_logloss: 0.731506\n",
      "[11000]\ttraining's multi_logloss: 0.657428\tvalid_1's multi_logloss: 0.731709\n",
      "Early stopping, best iteration is:\n",
      "[6501]\ttraining's multi_logloss: 0.684155\tvalid_1's multi_logloss: 0.730891\n",
      "OOF Accuracy 0.6930789329768487 and Training Accuracy 0.7051313211101153\n"
     ]
    }
   ],
   "source": [
    "evals_result = {}\n",
    "feature_imp = pd.DataFrame()\n",
    "features = [feat for feat in X1.columns]\n",
    "folds = StratifiedKFold(n_splits=8, shuffle=False, random_state =8736)\n",
    "param = {\n",
    "    'bagging_freq': 125,\n",
    "    'bagging_fraction': 0.9984231784564706,\n",
    "    'boost_from_average':'false',\n",
    "    'boosting_type': 'gbdt',\n",
    "    'feature_fraction': 0.54,\n",
    "    'learning_rate': 0.005,\n",
    "    'max_depth': -1,  \n",
    "    'min_data_in_leaf': 80,\n",
    "    'min_sum_hessian_in_leaf': 16.0,\n",
    "    'num_leaves': 30,\n",
    "    'num_threads': 8,\n",
    "    'tree_learner': 'serial',\n",
    "    'objective': 'multiclass',\n",
    "    'num_class': 3,\n",
    "    'verbosity': 1,\n",
    "    \"n_jobs\":-1,\n",
    "    \"metric\" : \"multi_logloss\",\n",
    "}\n",
    "\n",
    "predictions = np.zeros((len(X1),3))\n",
    "predictions_test = np.zeros((len(X_test),3))\n",
    "\n",
    "for fold_, (train_idx,val_idx) in enumerate(folds.split(X1.values,Y.values)):\n",
    "    print(\"Fold {}\".format(fold_+1))\n",
    "    #old_score = score\n",
    "    d_train = lgb.Dataset(X1.iloc[train_idx][features], label=Y.iloc[train_idx])\n",
    "    d_val = lgb.Dataset(X1.iloc[val_idx][features],label=Y.iloc[val_idx])\n",
    "    num_round = 1000000\n",
    "    clf = lgb.train(param,d_train,num_round,valid_sets=[d_train,d_val],verbose_eval=1000, early_stopping_rounds=5000,evals_result=evals_result)\n",
    "    oof = clf.predict(X1.iloc[val_idx][features],num_iteration=clf.best_iteration)\n",
    "    #score = roc_auc_score(Y.iloc[val_idx],oof)\n",
    "    fold_imp = pd.DataFrame()\n",
    "    fold_imp[\"Feature\"] = features\n",
    "    fold_imp[\"importance\"] = clf.feature_importance()\n",
    "    fold_imp[\"fold\"] = fold_ +1\n",
    "    feat_imp_df = pd.concat([feature_imp,fold_imp], axis=0)\n",
    "    predictions += clf.predict(X1, num_iteration=clf.best_iteration)\n",
    "    predictions_test += clf.predict(X_test, num_iteration=clf.best_iteration)\n",
    "    #predictions = clf.predict(X_sub, num_iteration=clf.best_iteration)\n",
    "    pred_lab = pd.DataFrame([np.argmax(pr) for pr in predictions])\n",
    "    oof_lab = pd.DataFrame([np.argmax(pr) for pr in oof])\n",
    "    acc_score = accuracy_score(Y,pred_lab)\n",
    "    oof_acc = accuracy_score(Y.iloc[val_idx],oof_lab)\n",
    "    print(\"OOF Accuracy {} and Training Accuracy {}\".format(oof_acc,acc_score))"
   ]
  },
  {
   "cell_type": "code",
   "execution_count": 179,
   "metadata": {},
   "outputs": [],
   "source": [
    "prediction_lab = pd.DataFrame([np.argmax(pr) for pr in predictions])"
   ]
  },
  {
   "cell_type": "code",
   "execution_count": 180,
   "metadata": {},
   "outputs": [
    {
     "name": "stdout",
     "output_type": "stream",
     "text": [
      "        0\n",
      "0       1\n",
      "1       1\n",
      "2       1\n",
      "3       1\n",
      "4       2\n",
      "...    ..\n",
      "131657  2\n",
      "131658  1\n",
      "131659  1\n",
      "131660  1\n",
      "131661  0\n",
      "\n",
      "[131662 rows x 1 columns]\n"
     ]
    }
   ],
   "source": [
    "print(prediction_lab)"
   ]
  },
  {
   "cell_type": "code",
   "execution_count": 181,
   "metadata": {},
   "outputs": [
    {
     "data": {
      "text/plain": [
       "0.7051313211101153"
      ]
     },
     "execution_count": 181,
     "metadata": {},
     "output_type": "execute_result"
    }
   ],
   "source": [
    "accuracy_score(Y,prediction_lab)"
   ]
  },
  {
   "cell_type": "code",
   "execution_count": 182,
   "metadata": {},
   "outputs": [],
   "source": [
    "prediction_test_lab = pd.DataFrame([np.argmax(pr) for pr in predictions_test])"
   ]
  },
  {
   "cell_type": "code",
   "execution_count": 184,
   "metadata": {},
   "outputs": [],
   "source": [
    "prediction_test_lab = prediction_test_lab+1"
   ]
  },
  {
   "cell_type": "code",
   "execution_count": 199,
   "metadata": {},
   "outputs": [],
   "source": [
    "test = list(combine1[combine1[\"Surge_Pricing_Type\"].isnull()][\"Trip_ID\"])"
   ]
  },
  {
   "cell_type": "code",
   "execution_count": 202,
   "metadata": {},
   "outputs": [],
   "source": [
    "sub = pd.DataFrame({\"Trip_ID\":test,\"Surge_Pricing_Type\":prediction_test_lab[0]})"
   ]
  },
  {
   "cell_type": "code",
   "execution_count": 203,
   "metadata": {},
   "outputs": [],
   "source": [
    "sub.to_csv(\"predictions.csv\",index=False)"
   ]
  },
  {
   "cell_type": "code",
   "execution_count": 22,
   "metadata": {},
   "outputs": [
    {
     "name": "stderr",
     "output_type": "stream",
     "text": [
      "C:\\Users\\I354298\\AppData\\Local\\Continuum\\anaconda3\\lib\\site-packages\\sklearn\\model_selection\\_split.py:296: FutureWarning: Setting a random_state has no effect since shuffle is False. This will raise an error in 0.24. You should leave random_state to its default (None), or set shuffle=True.\n",
      "  FutureWarning\n"
     ]
    },
    {
     "name": "stdout",
     "output_type": "stream",
     "text": [
      "Fold 1\n",
      "OOF accuracy 0.6875075950905335 and Training accuracy 0.7134176907535963\n",
      "Fold 2\n",
      "OOF accuracy 0.6896949811641755 and Training accuracy 0.7133113578709119\n",
      "Fold 3\n",
      "OOF accuracy 0.6904848705796574 and Training accuracy 0.7132809770472878\n",
      "Fold 4\n",
      "OOF accuracy 0.689148134645765 and Training accuracy 0.7128100742811138\n",
      "Fold 5\n",
      "OOF accuracy 0.688419005954551 and Training accuracy 0.7129695736051405\n",
      "Fold 6\n",
      "OOF accuracy 0.6948596427269413 and Training accuracy 0.7126733605748052\n",
      "Fold 7\n",
      "OOF accuracy 0.6932004618095643 and Training accuracy 0.71285564551655\n",
      "Fold 8\n",
      "OOF accuracy 0.6926535820623443 and Training accuracy 0.7129543831933284\n"
     ]
    }
   ],
   "source": [
    "from xgboost import XGBClassifier\n",
    "predictions = np.zeros((len(X1),3))\n",
    "predictions_test1 = np.zeros((len(X_test),3))\n",
    "features = [feat for feat in X1.columns]\n",
    "folds = StratifiedKFold(n_splits=8, shuffle=False, random_state =8736)\n",
    "for fold_, (train_idx,val_idx) in enumerate(folds.split(X1,Y)):\n",
    "    print(\"Fold {}\".format(fold_+1))\n",
    "    #old_score = score\n",
    "    clf = XGBClassifier(n_estimators=500,verbosity=1,objective=\"multi:softprob\",learning_rate =0.05,num_class =3,eval_metric=\"mlogloss\",early_stopping_rounds=10)\n",
    "    clf.fit(X1.iloc[train_idx][features],Y.iloc[train_idx])\n",
    "    best_iteration = clf.get_booster().best_ntree_limit\n",
    "    oof = clf.predict_proba(X1.iloc[val_idx][features],ntree_limit=best_iteration)\n",
    "    #score = roc_auc_score(Y.iloc[val_idx],oof)\n",
    "    #fold_imp = pd.DataFrame()\n",
    "    #fold_imp[\"Feature\"] = features\n",
    "    #fold_imp[\"importance\"] = clf.feature_importance()\n",
    "    #fold_imp[\"fold\"] = fold_ +1\n",
    "    #feat_imp_df = pd.concat([feature_imp,fold_imp], axis=0)\n",
    "    predictions += clf.predict_proba(X1,ntree_limit=best_iteration)\n",
    "    predictions_test1 += clf.predict_proba(X_test,ntree_limit=best_iteration)\n",
    "    #predictions = clf.predict(X_sub, num_iteration=clf.best_iteration)\n",
    "    pred_lab = pd.DataFrame([np.argmax(pr) for pr in predictions])\n",
    "    oof_lab = pd.DataFrame([np.argmax(pr) for pr in oof])\n",
    "    acc_score = accuracy_score(Y,pred_lab)\n",
    "    oof_acc = accuracy_score(Y.iloc[val_idx],oof_lab)      \n",
    "    print(\"OOF accuracy {} and Training accuracy {}\".format(oof_acc,acc_score))"
   ]
  },
  {
   "cell_type": "code",
   "execution_count": 23,
   "metadata": {},
   "outputs": [
    {
     "data": {
      "text/plain": [
       "0.7129543831933284"
      ]
     },
     "execution_count": 23,
     "metadata": {},
     "output_type": "execute_result"
    }
   ],
   "source": [
    "prediction_lab = pd.DataFrame([np.argmax(pr) for pr in predictions])\n",
    "accuracy_score(Y,prediction_lab)"
   ]
  },
  {
   "cell_type": "code",
   "execution_count": 24,
   "metadata": {},
   "outputs": [],
   "source": [
    "prediction_test_lab = pd.DataFrame([np.argmax(pr) for pr in predictions_test1])\n",
    "prediction_test_lab = prediction_test_lab+1\n",
    "test = list(combine1[combine1[\"Surge_Pricing_Type\"].isnull()][\"Trip_ID\"])\n",
    "sub = pd.DataFrame({\"Trip_ID\":test,\"Surge_Pricing_Type\":prediction_test_lab[0]})\n",
    "sub.to_csv(\"predictions1.csv\",index=False)"
   ]
  },
  {
   "cell_type": "code",
   "execution_count": null,
   "metadata": {},
   "outputs": [],
   "source": []
  }
 ],
 "metadata": {
  "kernelspec": {
   "display_name": "Python 3",
   "language": "python",
   "name": "python3"
  },
  "language_info": {
   "codemirror_mode": {
    "name": "ipython",
    "version": 3
   },
   "file_extension": ".py",
   "mimetype": "text/x-python",
   "name": "python",
   "nbconvert_exporter": "python",
   "pygments_lexer": "ipython3",
   "version": "3.7.6"
  }
 },
 "nbformat": 4,
 "nbformat_minor": 4
}
